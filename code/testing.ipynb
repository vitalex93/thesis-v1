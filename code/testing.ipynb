{
 "cells": [
  {
   "cell_type": "code",
   "execution_count": null,
   "metadata": {},
   "outputs": [],
   "source": [
    "from helper import *\n",
    "\n",
    "path='../reports/corpus.xlsx'\n",
    "\n",
    "description = get_column_values(path, 'descriptions_measures', 'A')\n",
    "\n",
    "\n",
    "targets = get_column_values(path, 'descriptions_measures', 'B')\n",
    "\n",
    "similarities_df = similarities_df(docs=description,group=targets,encoding_method='tfidf')\n",
    "\n",
    "similarities_df.head()"
   ]
  },
  {
   "cell_type": "code",
   "execution_count": null,
   "metadata": {},
   "outputs": [],
   "source": [
    "from helper import *\n",
    "\n",
    "Q1 = 'Create a report that shows the number of settlement applications approved during the month, their approved amount,\\\n",
    "      the written off balance, the average days to approval, their average and median duration and their entry principal and balance, \\\n",
    "        for September 2020 per DCA and application type. The report should be produced on Earth portfolio. '\n",
    "\n",
    "path = '../reports/corpus.xlsx'\n",
    "targets = get_column_values(path, 'descriptions_measures', 'B')\n",
    "encoding_method = 'word2vec'\n",
    "version = 'word2vec-google-news-300'\n",
    "\n",
    "\n",
    "\n",
    "\n",
    "similarities_dict = get_similarity_scores(text=Q1,documents=targets,encoding_method=encoding_method,version=version)\n",
    "\n",
    "top_10 = get_first_n_keys(similarities_dict, 10)\n",
    "\n",
    "\n",
    "top_10"
   ]
  },
  {
   "cell_type": "code",
   "execution_count": null,
   "metadata": {},
   "outputs": [],
   "source": [
    "from helper import *\n",
    "\n",
    "Q1 = 'Create a report that shows the number of settlement applications approved during the month, their approved amount,\\\n",
    "      the written off balance, the average days to approval, their average and median duration and their entry principal and balance, \\\n",
    "        for September 2020 per DCA and application type. The report should be produced on Earth portfolio. '\n",
    "\n",
    "processed_text = preprocess_text(Q1)\n",
    "\n",
    "\n",
    "\n",
    "w2v = api.load(\"word2vec-google-news-300\")\n",
    "vocab = w2v.index_to_key\n",
    "words = Q1.split()\n",
    "\n",
    "\n",
    "count = sum(1 for word in processed_text if word in w2v)\n",
    "existing_words = [word for word in processed_text if word in w2v]\n",
    "difference = len(words) - count\n",
    "\n",
    "pr, orig = get_unique_items(words, processed_text)\n",
    "\n",
    "pr"
   ]
  },
  {
   "cell_type": "code",
   "execution_count": 5,
   "metadata": {},
   "outputs": [
    {
     "data": {
      "text/plain": [
       "['settlement duration 6 month included',\n",
       " 'settlement duration 7 12 month included',\n",
       " 'settlement duration 13 36 month included',\n",
       " 'settlement duration 37 72 month included',\n",
       " 'settlement duration 73 108 month included',\n",
       " 'settlement duration 109 month']"
      ]
     },
     "execution_count": 5,
     "metadata": {},
     "output_type": "execute_result"
    }
   ],
   "source": [
    "from helper import *\n",
    "\n",
    "path='../reports/corpus.xlsx'\n",
    "\n",
    "Q1 = 'Create a report that shows the number of settlement applications approved during the month, their approved amount,\\\n",
    "      the written off balance, the average days to approval, their average and median duration and their entry principal and balance, \\\n",
    "        for September 2020 per DCA and application type. The report should be produced on Earth portfolio. '\n",
    "\n",
    "Q2 = 'Provide a report that displays the number of accounts not in running settlements for the Earth portfolio, \\\n",
    "  their expected monthly payments at the end of the examined month and their actual monthly payments per DCA, for September 2020.'\n",
    "\n",
    "ground_truth = {'R1':[preprocess_text(element) for element in get_column_values(path, 'R1', 'C')],\n",
    "                        'R2':[preprocess_text(element) for element in get_column_values(path, 'R2', 'C')],\n",
    "                        'R3':[preprocess_text(element) for element in get_column_values(path, 'R3', 'C')],\n",
    "                        'R4':[preprocess_text(element) for element in get_column_values(path, 'R4', 'C')],\n",
    "                        'R5':[preprocess_text(element) for element in get_column_values(path, 'R5', 'C')],\n",
    "                        'R6':[preprocess_text(element) for element in get_column_values(path, 'R6', 'C')],\n",
    "                        'R7':[preprocess_text(element) for element in get_column_values(path, 'R7', 'C')],\n",
    "                        'R8':[preprocess_text(element) for element in get_column_values(path, 'R8', 'C')],\n",
    "                        'R9':[preprocess_text(element) for element in get_column_values(path, 'R9', 'C')]}   \n",
    "\n",
    "processed_text = preprocess_text(Q2)\n",
    "\n",
    "ground_truth['R4']\n"
   ]
  },
  {
   "cell_type": "code",
   "execution_count": 1,
   "metadata": {},
   "outputs": [
    {
     "name": "stderr",
     "output_type": "stream",
     "text": [
      "c:\\Users\\avitsas\\Anaconda3\\envs\\project\\lib\\site-packages\\tqdm\\auto.py:21: TqdmWarning: IProgress not found. Please update jupyter and ipywidgets. See https://ipywidgets.readthedocs.io/en/stable/user_install.html\n",
      "  from .autonotebook import tqdm as notebook_tqdm\n"
     ]
    },
    {
     "name": "stdout",
     "output_type": "stream",
     "text": [
      "Bag-of-words model saved to preprocessed_nums_bow_model.joblib\n",
      "TF-IDF model saved to preprocessed_nums_tfidf_model.joblib\n"
     ]
    }
   ],
   "source": [
    "from helper import *\n",
    "\n",
    "path='../reports/corpus.xlsx'\n",
    "descriptions = get_column_values(path, 'descriptions_measures', 'A')\n",
    "targets = get_column_values(path, 'descriptions_measures', 'B')\n",
    "models = ['bow','tfidf','word2vec','sbert']\n",
    "version_w2v = 'word2vec-google-news-300'\n",
    "version_sbert = 'bert-base-nli-mean-tokens'\n",
    "version_bow = '/models/bow_model.joblib'\n",
    "version_tfidf = '/models/tfidf_model.joblib'\n",
    "corpus = ['Descriptions']\n",
    "tm = TextModels(excel_path=path, columns=corpus,\n",
    "                 word2vec_version=version_w2v, sbert_model=version_sbert)\n",
    "\n",
    "tm.build_bow_model(preprocessing=True)\n",
    "tm.build_tfidf_model(preprocessing=True)\n",
    "\n",
    "tm.save_models('preprocessed_nums_')"
   ]
  },
  {
   "cell_type": "code",
   "execution_count": 6,
   "metadata": {},
   "outputs": [
    {
     "data": {
      "text/plain": [
       "['settlement duration 109 month',\n",
       " 'settlement duration 6 month included',\n",
       " 'settlement duration 7 12 month included',\n",
       " 'settlement duration 13 36 month included',\n",
       " 'settlement duration 37 72 month included',\n",
       " 'settlement duration 73 108 month included',\n",
       " 'month arrears 1 month ago',\n",
       " 'application status previous month',\n",
       " 'settlement duration',\n",
       " 'payment prediction stray payer active settlement']"
      ]
     },
     "execution_count": 6,
     "metadata": {},
     "output_type": "execute_result"
    }
   ],
   "source": [
    "from helper import *\n",
    "\n",
    "path='../reports/corpus.xlsx'\n",
    "descriptions = [preprocess_text(element) for element in get_column_values(path, 'descriptions_measures', 'A')]\n",
    "targets = [preprocess_text(element) for element in get_column_values(path, 'descriptions_measures', 'B')]\n",
    "models = ['bow','tfidf','word2vec','sbert']\n",
    "preprocessing = True\n",
    "version_w2v = 'word2vec-google-news-300'\n",
    "version_sbert = 'bert-base-nli-mean-tokens'\n",
    "version_bow = '/models/preprocessedbow_model.joblib'\n",
    "version_tfidf = '/models/preprocessedtfidf_model.joblib'\n",
    "corpus = ['Descriptions']\n",
    "tm = TextModels(excel_path=path, columns=corpus,\n",
    "                 word2vec_version=version_w2v, sbert_model=version_sbert)\n",
    "n = 10\n",
    "\n",
    "df = results_to_targets(descriptions=descriptions,targets=targets,model='bow',version=version_bow,\n",
    "                        tm=tm, preprocessing=preprocessing,n=n,path=path, i=5)\n",
    "\n",
    "\n",
    "dictsim = get_similarities_for_values(values=descriptions, docs=targets,encoding_method='bow',version=version_bow,\n",
    "                                      tm=tm, n=n)\n",
    "\n",
    "dictsim['R4']"
   ]
  },
  {
   "cell_type": "code",
   "execution_count": 1,
   "metadata": {},
   "outputs": [
    {
     "name": "stderr",
     "output_type": "stream",
     "text": [
      "c:\\Users\\avitsas\\Anaconda3\\envs\\project\\lib\\site-packages\\tqdm\\auto.py:21: TqdmWarning: IProgress not found. Please update jupyter and ipywidgets. See https://ipywidgets.readthedocs.io/en/stable/user_install.html\n",
      "  from .autonotebook import tqdm as notebook_tqdm\n"
     ]
    },
    {
     "data": {
      "text/plain": [
       "{'Status of the last submitted application within the observation period.': 0.9315781,\n",
       " 'Last rejection date of all applications within the observation perion': 0.9308385,\n",
       " 'Application status at the end of the preceding observation period': 0.92961,\n",
       " 'Payment prediction for stray payers, not in active settlement': 0.9096353,\n",
       " 'Application type in the observation period': 0.9019604,\n",
       " 'Application bucket in the previous observation period': 0.9003092,\n",
       " 'External agency (DCA or legal office) assigned on previous observation point': 0.89811665,\n",
       " 'Amount paid within the observation period': 0.8942149,\n",
       " 'Bucket class for active arrangements or cancelled status': 0.8844932,\n",
       " 'Application type in previous observation period': 0.85671395,\n",
       " 'Application status in previous month': 0.85315996,\n",
       " 'Months in arrears, 1 month ago': 0.8467916,\n",
       " 'Total payments amount so far': 0.83751345,\n",
       " 'Settlement duration more than 109 months': 0.8333211,\n",
       " 'External agency (DCA or legal office) currently assigned': 0.8274901,\n",
       " 'Settlement duration to 6 months (included)': 0.81639135,\n",
       " 'Settlement duration 7 to 12 months (included)': 0.81639135,\n",
       " 'Settlement duration 13 to 36 months (included)': 0.81639135,\n",
       " 'Settlement duration 37 to 72 months (included)': 0.81639135,\n",
       " 'Settlement duration 73 to 108 months (included)': 0.81639135,\n",
       " 'Balance written off': 0.80993897,\n",
       " 'Principal on arrangement creation': 0.80130154,\n",
       " 'Balance on arrangement creation': 0.80130154,\n",
       " 'Days to approval': 0.7919266,\n",
       " 'Observation point number': 0.7779632,\n",
       " 'Observation point number (application)': 0.7779632,\n",
       " 'Observation point number (customer)': 0.7779632,\n",
       " 'Principal amount class': 0.7764287,\n",
       " 'Pending days': 0.7659403,\n",
       " 'Days to cancellation': 0.76181734,\n",
       " 'Observation point date': 0.75581294,\n",
       " 'Observation point date (application)': 0.75581294,\n",
       " 'Observation point date (customer)': 0.75581294,\n",
       " 'Days to rejection': 0.7553132,\n",
       " 'Payment prediction for settlement payers': 0.7383259,\n",
       " 'Asset class': 0.7024785,\n",
       " 'QC case code': 0.69124347,\n",
       " 'Total future instalments amount': 0.67678523,\n",
       " 'QC customer code': 0.6595685,\n",
       " 'Application submission date': 0.63663393,\n",
       " 'Application type': 0.63322234,\n",
       " 'Approval date': 0.6291459,\n",
       " 'Cancellation date': 0.6291459,\n",
       " 'Rejection date': 0.6291459,\n",
       " 'Approved amount': 0.61132526,\n",
       " 'Discount amount': 0.61132526,\n",
       " 'Customer (primary account holder)': 0.5802203,\n",
       " 'Account concerned': 0.52055347,\n",
       " 'Active application indicator': 0.5105744,\n",
       " 'Account status': 0.48684242,\n",
       " 'Application status': 0.48684242,\n",
       " 'Account segment': 0.44257626,\n",
       " 'Customer segment': 0.44257626,\n",
       " 'Unique application identifier': 0.3905457,\n",
       " 'Application origin': 0.3727063,\n",
       " 'Approved duration': 0.27144313,\n",
       " 'Settlement duration': 0.27144313,\n",
       " 'Application indicator': 0.26346278,\n",
       " 'Portfolio grouping': 0.17634456,\n",
       " 'Portfolio': 0,\n",
       " 'Customer': 0}"
      ]
     },
     "execution_count": 1,
     "metadata": {},
     "output_type": "execute_result"
    }
   ],
   "source": [
    "from helper import *\n",
    "\n",
    "def w2v_vec(text):\n",
    "    text = text.split()\n",
    "    embeddings = [w2v[word] for word in words if word in w2v]\n",
    "    sentence_emb = sum(embeddings)/w2v.vector_size\n",
    "    return sentence_emb\n",
    "\n",
    "def cos_sim(v1,v2):\n",
    "  score = cosine_similarity([v1], [v2])[0][0]\n",
    "  return score\n",
    "    \n",
    "path='../reports/corpus.xlsx'\n",
    "descriptions = get_column_values(path, 'descriptions_measures', 'A')\n",
    "targets = get_column_values(path, 'descriptions_measures', 'B')\n",
    "models = ['bow','tfidf','word2vec','sbert']\n",
    "preprocessing = False\n",
    "version_w2v = 'glove-twitter-200'\n",
    "version_sbert = 'bert-base-nli-mean-tokens'\n",
    "version_bow = 'preprocessedbow_model.joblib'\n",
    "version_tfidf = 'preprocessedtfidf_model.joblib'\n",
    "corpus = ['Descriptions']\n",
    "tm = TextModels(excel_path=path, columns=corpus,\n",
    "                 word2vec_version=version_w2v, sbert_model=version_sbert)\n",
    "n = 10\n",
    "Q8 = 'Create a report that shows the number of settlement applications approved during the month, their approved amount,\\\n",
    "      the written off balance, the average days to approval, their average and median duration and their entry principal and balance, \\\n",
    "        for September 2020 per DCA and application type. The report should be produced on Earth portfolio. '\n",
    "target_sample = 'Balance on arrangement creation'\n",
    "\n",
    "\n",
    "scores = get_similarity_scores(text=Q8, documents=targets, encoding_method='word2vec',\n",
    "                               version=version_w2v, tm=tm, preprocessing=preprocessing )\n",
    "\n",
    "\n",
    "scores"
   ]
  },
  {
   "cell_type": "code",
   "execution_count": null,
   "metadata": {},
   "outputs": [],
   "source": [
    "glove_Q8 = tm.encode_word2vec(sentence=Q8, preprocessing=preprocessing)\n",
    "glove_target_sample = tm.encode_word2vec(sentence=target_sample, preprocessing=preprocessing)\n",
    "\n",
    "\n",
    "\n",
    "glove_Q8"
   ]
  },
  {
   "cell_type": "code",
   "execution_count": 3,
   "metadata": {},
   "outputs": [
    {
     "name": "stdout",
     "output_type": "stream",
     "text": [
      "[-3.7266901e-03 -5.2159498e-03  8.9269993e-04  4.1858002e-04\n",
      "  6.2018000e-03  4.0180152e-03  6.3200500e-03 -5.1428499e-03\n",
      " -2.4992495e-04 -4.5147650e-03 -4.9845502e-03  4.4995494e-04\n",
      " -9.8515498e-03  9.8384998e-04 -4.2974604e-03  3.5630499e-03\n",
      "  1.4208248e-03  3.6028496e-04 -4.0710745e-03  2.6349584e-03\n",
      "  1.6883650e-03  1.6630000e-03 -4.5094001e-03 -2.0826503e-03\n",
      " -1.2412150e-03  1.4283050e-02  1.8301500e-03  6.9146003e-03\n",
      "  2.1180550e-03  2.3239499e-03 -1.1422550e-03  3.0653001e-04\n",
      " -2.5102999e-03 -2.4493001e-03  5.0821993e-03 -3.5678900e-03\n",
      "  3.3366247e-03  5.1048503e-04  5.8827000e-03 -5.4690003e-04\n",
      "  7.5462502e-03 -1.5127101e-03  9.9425006e-04  4.9095000e-03\n",
      "  5.3505506e-03 -1.9670010e-04 -7.2230948e-03 -2.4558499e-03\n",
      "  1.5668500e-03 -5.2830498e-03  2.2397500e-03 -3.0819996e-04\n",
      " -6.2564999e-04  2.2696999e-03 -7.0864498e-04 -1.3213800e-03\n",
      "  4.8332498e-03 -2.8948497e-03  1.1388500e-03  8.9293451e-04\n",
      " -8.9122995e-04 -3.9040498e-04  8.9254498e-04 -4.0206448e-03\n",
      " -2.9283601e-03  3.0894501e-03  5.0009252e-03  1.8628101e-03\n",
      " -3.8361319e-03  1.9977903e-03 -4.8129997e-04  3.6465002e-03\n",
      "  1.5839851e-03 -3.8399994e-05  9.2029991e-04 -2.3277500e-03\n",
      "  2.5793400e-03  1.3860699e-03 -1.6185502e-04  4.9019000e-03\n",
      "  4.6407199e-03  3.8989151e-03  1.6188151e-03 -1.7433001e-03\n",
      " -3.0134099e-03 -2.9273003e-03  1.9103498e-03 -2.9001797e-03\n",
      " -4.2578350e-03  1.0064599e-03  8.1045000e-04  5.3586499e-03\n",
      " -1.5881801e-03 -4.7481502e-03 -8.8649991e-05  7.9634995e-04\n",
      "  3.3523000e-03 -3.9129849e-03 -6.3414997e-03  3.2060500e-03\n",
      "  7.1785005e-04  2.1626010e-04  1.5940501e-03  5.6518000e-03\n",
      "  3.4852999e-03 -2.5130850e-03  2.6734425e-03 -1.6045001e-03\n",
      " -4.6682698e-03  3.1684500e-03  1.5221187e-03  1.3253150e-03\n",
      " -4.8127901e-03 -6.6637504e-04  1.4786002e-03 -1.3518601e-03\n",
      "  3.0061200e-03  4.7526448e-03  4.4077000e-04  6.9562499e-03\n",
      "  2.5780150e-03  2.6159501e-03  2.5548500e-03  9.4040995e-04\n",
      "  5.4704500e-03 -1.8628508e-04  1.6215999e-03  3.6068977e-04\n",
      "  4.3515502e-03  3.6749954e-03  3.9331652e-03  1.9748500e-03\n",
      " -5.3555495e-04  1.1839799e-03 -2.3044497e-03 -3.4822049e-03\n",
      " -2.8723449e-04  3.6328251e-03 -4.3360097e-03 -4.6579503e-03\n",
      " -1.1961450e-03  1.8294000e-03  2.2220497e-03  3.2290004e-03\n",
      "  1.2891999e-03 -1.0433649e-03 -3.0867099e-03 -2.0182850e-03\n",
      " -1.2593002e-03  4.0087500e-03  3.0622501e-03 -2.1794006e-04\n",
      " -4.9121499e-02  8.0149504e-04 -2.8537496e-04 -1.9615010e-04\n",
      "  9.8805001e-04 -2.4223002e-03 -7.2968500e-03  4.2064502e-03\n",
      " -4.0801503e-03  4.1421498e-03  2.1580007e-04 -2.4107606e-03\n",
      "  3.6484553e-03 -3.8720004e-04  5.8218004e-04  2.5145900e-03\n",
      "  2.3099501e-03 -3.4791499e-03  7.9694502e-03 -1.2265002e-04\n",
      " -1.6631499e-03 -2.5072300e-03  5.2690000e-04  4.9151001e-03\n",
      "  6.2351204e-03  1.2822502e-03  2.6355749e-03  7.3099953e-05\n",
      "  1.6644499e-03 -1.5314296e-03 -1.8658999e-03  2.8239499e-04\n",
      " -1.9365202e-03 -1.6862000e-03 -5.8847321e-03 -5.5501000e-03\n",
      "  2.0296751e-03 -3.3680252e-03  4.9403502e-04 -3.7738050e-03\n",
      "  9.8309992e-03 -8.6629984e-04  8.6901011e-04  5.9300796e-03\n",
      "  5.1997500e-03  3.7774500e-03 -8.7702501e-05 -3.8357002e-03]\n"
     ]
    }
   ],
   "source": [
    "def w2v_vec(text,w2v):\n",
    "    text = text.split()\n",
    "    embeddings = [w2v[word] for word in text if word in w2v]\n",
    "    sentence_emb = sum(embeddings)/w2v.vector_size\n",
    "    return sentence_emb\n",
    "\n",
    "def cos_sim(t1,t2,w2v):\n",
    "  v1 = w2v_vec(t1,w2v)\n",
    "  v2 = w2v_vec(t2,w2v)\n",
    "  score = cosine_similarity([v1], [v2])[0][0]\n",
    "  return score\n",
    "\n",
    "w2v = api.load(\"glove-twitter-200\")\n",
    "Q8 = 'Create a report that shows the number of settlement applications approved during the month, their approved amount,\\\n",
    "      the written off balance, the average days to approval, their average and median duration and their entry principal and balance, \\\n",
    "        for September 2020 per DCA and application type. The report should be produced on Earth portfolio. '\n",
    "target_sample = 'Balance on arrangement creation'\n",
    "\n",
    "\n",
    "sim = cos_sim(Q8,target_sample,w2v)\n",
    "\n",
    "query_encoding = w2v_vec(target_sample, w2v) \n",
    "doc_encoding = w2v_vec(Q8, w2v)\n",
    "similarity_score = cosine_similarity([query_encoding], [doc_encoding])[0][0]\n",
    "\n",
    "print('doc_encoding shape:', doc_encoding.shape)\n",
    "\n",
    "\n",
    "\n"
   ]
  },
  {
   "cell_type": "code",
   "execution_count": 9,
   "metadata": {},
   "outputs": [],
   "source": [
    "from helper import *\n",
    "\n",
    "path='../reports/corpus.xlsx'\n",
    "descriptions = get_column_values(path, 'descriptions_measures', 'A')\n",
    "targets = get_column_values(path, 'descriptions_measures', 'B')\n",
    "w2v = 'word2vec-google-news-300'\n",
    "\n",
    "dict_desc = percentage_of_words_in_word2vec_vocabulary(w2v,descriptions)\n",
    "dict_tar = percentage_of_words_in_word2vec_vocabulary(w2v,targets)\n"
   ]
  },
  {
   "cell_type": "code",
   "execution_count": 22,
   "metadata": {},
   "outputs": [
    {
     "data": {
      "text/plain": [
       "True"
      ]
     },
     "execution_count": 22,
     "metadata": {},
     "output_type": "execute_result"
    }
   ],
   "source": [
    "#dict_desc\n",
    "dict_tar\n",
    "w2v = api.load('word2vec-google-news-300')\n",
    "l = 'QC customer code'.split()\n",
    "\n",
    "words_found = 0\n",
    "for word in l:\n",
    "    if word in w2v:\n",
    "        words_found += 1\n",
    "\n",
    "words_found\n",
    "\n",
    "'QC' in w2v"
   ]
  },
  {
   "cell_type": "code",
   "execution_count": 1,
   "metadata": {},
   "outputs": [
    {
     "name": "stderr",
     "output_type": "stream",
     "text": [
      "c:\\Users\\avitsas\\Anaconda3\\envs\\project\\lib\\site-packages\\tqdm\\auto.py:21: TqdmWarning: IProgress not found. Please update jupyter and ipywidgets. See https://ipywidgets.readthedocs.io/en/stable/user_install.html\n",
      "  from .autonotebook import tqdm as notebook_tqdm\n"
     ]
    },
    {
     "data": {
      "text/plain": [
       "{'Q1': ['Application status at the end of the preceding observation period',\n",
       "  'Status of the last submitted application within the observation period.',\n",
       "  'Last rejection date of all applications within the observation perion',\n",
       "  'Application type in the observation period',\n",
       "  'Amount paid within the observation period',\n",
       "  'Application bucket in the previous observation period',\n",
       "  'Portfolio',\n",
       "  'Payment prediction for settlement payers',\n",
       "  'Total payments amount so far',\n",
       "  'Portfolio grouping'],\n",
       " 'Q2': ['Application status at the end of the preceding observation period',\n",
       "  'Status of the last submitted application within the observation period.',\n",
       "  'Application type in the observation period',\n",
       "  'Last rejection date of all applications within the observation perion',\n",
       "  'Application bucket in the previous observation period',\n",
       "  'Amount paid within the observation period',\n",
       "  'Payment prediction for stray payers, not in active settlement',\n",
       "  'Portfolio',\n",
       "  'Application status in previous month',\n",
       "  'Payment prediction for settlement payers'],\n",
       " 'Q3': ['Status of the last submitted application within the observation period.',\n",
       "  'Application status at the end of the preceding observation period',\n",
       "  'Last rejection date of all applications within the observation perion',\n",
       "  'Amount paid within the observation period',\n",
       "  'Discount amount',\n",
       "  'Settlement duration',\n",
       "  'Total future instalments amount',\n",
       "  'Payment prediction for settlement payers',\n",
       "  'Settlement duration to 6 months (included)',\n",
       "  'Principal amount class'],\n",
       " 'Q4': ['Settlement duration 37 to 72 months (included)',\n",
       "  'Settlement duration to 6 months (included)',\n",
       "  'Settlement duration 7 to 12 months (included)',\n",
       "  'Settlement duration 13 to 36 months (included)',\n",
       "  'Settlement duration 73 to 108 months (included)',\n",
       "  'Settlement duration more than 109 months',\n",
       "  'Status of the last submitted application within the observation period.',\n",
       "  'Application status at the end of the preceding observation period',\n",
       "  'Days to approval',\n",
       "  'Days to rejection'],\n",
       " 'Q5': ['Status of the last submitted application within the observation period.',\n",
       "  'Application status at the end of the preceding observation period',\n",
       "  'Application bucket in the previous observation period',\n",
       "  'Last rejection date of all applications within the observation perion',\n",
       "  'Application type in the observation period',\n",
       "  'Amount paid within the observation period',\n",
       "  'Bucket class for active arrangements or cancelled status',\n",
       "  'Application status in previous month',\n",
       "  'Payment prediction for settlement payers',\n",
       "  'Payment prediction for stray payers, not in active settlement'],\n",
       " 'Q6': ['Status of the last submitted application within the observation period.',\n",
       "  'Application status at the end of the preceding observation period',\n",
       "  'Application type in the observation period',\n",
       "  'Amount paid within the observation period',\n",
       "  'Last rejection date of all applications within the observation perion',\n",
       "  'Application bucket in the previous observation period',\n",
       "  'Approved amount',\n",
       "  'Application type',\n",
       "  'Principal amount class',\n",
       "  'Portfolio'],\n",
       " 'Q7': ['Application status at the end of the preceding observation period',\n",
       "  'Status of the last submitted application within the observation period.',\n",
       "  'Application type in the observation period',\n",
       "  'Application bucket in the previous observation period',\n",
       "  'Last rejection date of all applications within the observation perion',\n",
       "  'Amount paid within the observation period',\n",
       "  'Application status in previous month',\n",
       "  'Approved amount',\n",
       "  'Pending days',\n",
       "  'Days to approval'],\n",
       " 'Q8': ['Status of the last submitted application within the observation period.',\n",
       "  'Application status at the end of the preceding observation period',\n",
       "  'Application type in the observation period',\n",
       "  'Amount paid within the observation period',\n",
       "  'Balance written off',\n",
       "  'Application bucket in the previous observation period',\n",
       "  'Last rejection date of all applications within the observation perion',\n",
       "  'Approved amount',\n",
       "  'Approved duration',\n",
       "  'Days to approval'],\n",
       " 'Q9': ['Status of the last submitted application within the observation period.',\n",
       "  'Application status at the end of the preceding observation period',\n",
       "  'Application type in the observation period',\n",
       "  'Last rejection date of all applications within the observation perion',\n",
       "  'Amount paid within the observation period',\n",
       "  'Application bucket in the previous observation period',\n",
       "  'Days to rejection',\n",
       "  'Approved amount',\n",
       "  'Application type',\n",
       "  'Principal amount class']}"
      ]
     },
     "execution_count": 1,
     "metadata": {},
     "output_type": "execute_result"
    }
   ],
   "source": [
    "from helper import *\n",
    "\n",
    "path='../reports/corpus.xlsx'\n",
    "descriptions = get_column_values(path, 'descriptions_measures', 'A')\n",
    "targets = get_column_values(path, 'descriptions_measures', 'B')\n",
    "model = 'bow'\n",
    "preprocessing = False\n",
    "version_w2v = 'word2vec-google-news-300'\n",
    "version_sbert = 'bert-base-nli-mean-tokens'\n",
    "version_bow = './models/bow_model.joblib'\n",
    "version_tfidf = './models/tfidf_model.joblib'\n",
    "corpus = ['Descriptions']\n",
    "tm = TextModels(excel_path=path, columns=corpus,\n",
    "                 word2vec_version=version_w2v)\n",
    "n = 10\n",
    "metric = 'precision'\n",
    "results = get_similarities_for_values(values=descriptions, docs=targets, encoding_method=model,\n",
    "                                      version=version_bow, tm=tm, preprocessing=preprocessing, n=n)\n",
    "\n",
    "\n",
    "\n",
    "results"
   ]
  },
  {
   "cell_type": "code",
   "execution_count": 1,
   "metadata": {},
   "outputs": [
    {
     "name": "stderr",
     "output_type": "stream",
     "text": [
      "c:\\Users\\avitsas\\Anaconda3\\envs\\project\\lib\\site-packages\\tqdm\\auto.py:21: TqdmWarning: IProgress not found. Please update jupyter and ipywidgets. See https://ipywidgets.readthedocs.io/en/stable/user_install.html\n",
      "  from .autonotebook import tqdm as notebook_tqdm\n"
     ]
    },
    {
     "data": {
      "text/plain": [
       "{'Q1': 20.0,\n",
       " 'Q2': 20.0,\n",
       " 'Q3': 20.0,\n",
       " 'Q4': 60.0,\n",
       " 'Q5': 'One or both of the lists is empty',\n",
       " 'Q6': 10.0,\n",
       " 'Q7': 10.0,\n",
       " 'Q8': 30.0,\n",
       " 'Q9': 20.0}"
      ]
     },
     "execution_count": 1,
     "metadata": {},
     "output_type": "execute_result"
    }
   ],
   "source": [
    "from helper import *\n",
    "\n",
    "path='../reports/corpus.xlsx'\n",
    "descriptions = get_column_values(path, 'descriptions_measures', 'A')\n",
    "targets = get_column_values(path, 'descriptions_measures', 'B')\n",
    "model = 'bow'\n",
    "preprocessing = False\n",
    "version_w2v = 'word2vec-google-news-300'\n",
    "version_sbert = 'bert-base-nli-mean-tokens'\n",
    "version_bow = './models/bow_model.joblib'\n",
    "version_tfidf = './models/tfidf_model.joblib'\n",
    "corpus = ['Descriptions']\n",
    "tm = TextModels(excel_path=path, columns=corpus,\n",
    "                 word2vec_version=version_w2v)\n",
    "n = 10\n",
    "\n",
    "pr = precision(values=descriptions, docs=targets, encoding_method=model,\n",
    "               version=version_bow, tm=tm, preprocessing=preprocessing, path=path, n=n)\n",
    "\n",
    "pr"
   ]
  }
 ],
 "metadata": {
  "kernelspec": {
   "display_name": "project",
   "language": "python",
   "name": "python3"
  },
  "language_info": {
   "codemirror_mode": {
    "name": "ipython",
    "version": 3
   },
   "file_extension": ".py",
   "mimetype": "text/x-python",
   "name": "python",
   "nbconvert_exporter": "python",
   "pygments_lexer": "ipython3",
   "version": "3.9.16"
  },
  "orig_nbformat": 4,
  "vscode": {
   "interpreter": {
    "hash": "6730b402c0f33b6bed7f8d0f7f3f069d5734816b753f081e1b7690f9108853e7"
   }
  }
 },
 "nbformat": 4,
 "nbformat_minor": 2
}
