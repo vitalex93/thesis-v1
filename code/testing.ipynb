{
 "cells": [
  {
   "cell_type": "code",
   "execution_count": null,
   "metadata": {},
   "outputs": [],
   "source": [
    "from helper import *\n",
    "\n",
    "path='../reports/corpus.xlsx'\n",
    "\n",
    "description = get_column_values(path, 'descriptions_measures', 'A')\n",
    "\n",
    "\n",
    "targets = get_column_values(path, 'descriptions_measures', 'B')\n",
    "\n",
    "similarities_df = similarities_df(docs=description,group=targets,encoding_method='tfidf')\n",
    "\n",
    "similarities_df.head()"
   ]
  },
  {
   "cell_type": "code",
   "execution_count": null,
   "metadata": {},
   "outputs": [],
   "source": [
    "from helper import *\n",
    "\n",
    "Q1 = 'Create a report that shows the number of settlement applications approved during the month, their approved amount,\\\n",
    "      the written off balance, the average days to approval, their average and median duration and their entry principal and balance, \\\n",
    "        for September 2020 per DCA and application type. The report should be produced on Earth portfolio. '\n",
    "\n",
    "processed_text = preprocess_text(Q1)\n",
    "\n",
    "\n",
    "\n",
    "w2v = api.load(\"word2vec-google-news-300\")\n",
    "vocab = w2v.index_to_key\n",
    "words = Q1.split()\n",
    "\n",
    "\n",
    "count = sum(1 for word in processed_text if word in w2v)\n",
    "existing_words = [word for word in processed_text if word in w2v]\n",
    "difference = len(words) - count\n",
    "\n",
    "pr, orig = get_unique_items(words, processed_text)\n",
    "\n",
    "pr"
   ]
  },
  {
   "attachments": {},
   "cell_type": "markdown",
   "metadata": {},
   "source": [
    "**Save BOW models**"
   ]
  },
  {
   "cell_type": "code",
   "execution_count": 2,
   "metadata": {},
   "outputs": [
    {
     "name": "stdout",
     "output_type": "stream",
     "text": [
      "Bag-of-words model saved to trigrams_bow_model.joblib\n",
      "TF-IDF model saved to trigrams_tfidf_model.joblib\n"
     ]
    }
   ],
   "source": [
    "from helper import *\n",
    "\n",
    "path='../reports/corpus.xlsx'\n",
    "descriptions = get_column_values(path, 'descriptions_measures', 'A')\n",
    "targets = get_column_values(path, 'descriptions_measures', 'B')\n",
    "models = ['bow','tfidf','word2vec','sbert']\n",
    "version_w2v = 'word2vec-google-news-300'\n",
    "version_sbert = 'bert-base-nli-mean-tokens'\n",
    "version_bow = '/models/bow_model.joblib'\n",
    "version_tfidf = '/models/tfidf_model.joblib'\n",
    "corpus = ['Descriptions']\n",
    "tm = TextModels(excel_path=path, columns=corpus,\n",
    "                 word2vec_version=version_w2v, sbert_model=version_sbert)\n",
    "ngram_range = (3,3)\n",
    "\n",
    "tm.build_bow_model(preprocessing=False, ngram_range=ngram_range)\n",
    "tm.build_tfidf_model(preprocessing=False, ngram_range=ngram_range)\n",
    "\n",
    "tm.save_models('trigrams_')"
   ]
  },
  {
   "attachments": {},
   "cell_type": "markdown",
   "metadata": {},
   "source": [
    "**Testing W2V models**"
   ]
  },
  {
   "cell_type": "code",
   "execution_count": 7,
   "metadata": {},
   "outputs": [
    {
     "data": {
      "text/plain": [
       "{'Total payments amount so far': 0.6275363,\n",
       " 'Payment prediction for stray payers, not in active settlement': 0.6188656,\n",
       " 'Payment prediction for settlement payers': 0.60485303,\n",
       " 'Application status in previous month': 0.5597559,\n",
       " 'Settlement duration more than 109 months': 0.5478108,\n",
       " 'Application status at the end of the preceding observation period': 0.53949475,\n",
       " 'Settlement duration 7 to 12 months (included)': 0.539359,\n",
       " 'Settlement duration to 6 months (included)': 0.5342035,\n",
       " 'Amount paid within the observation period': 0.50816417,\n",
       " 'Settlement duration 13 to 36 months (included)': 0.5052897,\n",
       " 'Settlement duration 37 to 72 months (included)': 0.5052897,\n",
       " 'Settlement duration 73 to 108 months (included)': 0.5052897,\n",
       " 'Last rejection date of all applications within the observation perion': 0.4773875,\n",
       " 'External agency (DCA or legal office) assigned on previous observation point': 0.47552034,\n",
       " 'Status of the last submitted application within the observation period.': 0.47551486,\n",
       " 'Application bucket in the previous observation period': 0.45760936,\n",
       " 'Application type in previous observation period': 0.4423917,\n",
       " 'Months in arrears, 1 month ago': 0.43448913,\n",
       " 'Application type in the observation period': 0.427774,\n",
       " 'Total future instalments amount': 0.41822016,\n",
       " 'Settlement duration': 0.415436,\n",
       " 'Bucket class for active arrangements or cancelled status': 0.39977652,\n",
       " 'External agency (DCA or legal office) currently assigned': 0.38193506,\n",
       " 'Balance on arrangement creation': 0.37131387,\n",
       " 'Observation point date': 0.35465384,\n",
       " 'Observation point date (application)': 0.35465384,\n",
       " 'Observation point date (customer)': 0.35465384,\n",
       " 'Pending days': 0.3463918,\n",
       " 'Application submission date': 0.33411348,\n",
       " 'Active application indicator': 0.33237782,\n",
       " 'Approved amount': 0.3270398,\n",
       " 'Approval date': 0.3230446,\n",
       " 'Discount amount': 0.32127297,\n",
       " 'Cancellation date': 0.31791496,\n",
       " 'Principal on arrangement creation': 0.31764522,\n",
       " 'Approved duration': 0.30617547,\n",
       " 'Application indicator': 0.3008377,\n",
       " 'Balance written off': 0.29247707,\n",
       " 'Account concerned': 0.2912529,\n",
       " 'Rejection date': 0.2889167,\n",
       " 'Observation point number': 0.2825247,\n",
       " 'Observation point number (application)': 0.2825247,\n",
       " 'Observation point number (customer)': 0.2825247,\n",
       " 'Customer (primary account holder)': 0.27502555,\n",
       " 'Principal amount class': 0.27136528,\n",
       " 'Days to approval': 0.26807722,\n",
       " 'Account status': 0.26177076,\n",
       " 'Account segment': 0.2527727,\n",
       " 'Days to cancellation': 0.24546792,\n",
       " 'Application status': 0.23865288,\n",
       " 'Application type': 0.22733942,\n",
       " 'Asset class': 0.19600192,\n",
       " 'Application origin': 0.19103226,\n",
       " 'Customer segment': 0.18712029,\n",
       " 'Days to rejection': 0.178536,\n",
       " 'Portfolio grouping': 0.17598858,\n",
       " 'QC customer code': 0.17572425,\n",
       " 'QC case code': 0.1739349,\n",
       " 'Unique application identifier': 0.16361481,\n",
       " 'Portfolio': 0.14385003,\n",
       " 'Customer': 0.123212285}"
      ]
     },
     "execution_count": 7,
     "metadata": {},
     "output_type": "execute_result"
    }
   ],
   "source": [
    "from helper import *\n",
    "\n",
    "path='../reports/corpus.xlsx'\n",
    "descriptions = get_column_values(path, 'descriptions_measures', 'A')\n",
    "targets = get_column_values(path, 'descriptions_measures', 'B')\n",
    "models = ['bow','tfidf','word2vec','sbert']\n",
    "preprocessing = False\n",
    "version_w2v = 'word2vec-google-news-300'\n",
    "version_sbert = 'bert-base-nli-mean-tokens'\n",
    "version_bow = 'preprocessedbow_model.joblib'\n",
    "version_tfidf = 'preprocessedtfidf_model.joblib'\n",
    "corpus = ['Descriptions']\n",
    "tm = TextModels(excel_path=path, columns=corpus,\n",
    "                 word2vec_version=version_w2v, sbert_model=version_sbert)\n",
    "n = 10\n",
    "Q8 = 'running settlements expected monthly payments at the end of the examined month actual monthly payments'\n",
    "scores = get_similarity_scores(text=Q8, documents=targets, encoding_method='word2vec',\n",
    "                               version=version_w2v, tm=tm, preprocessing=preprocessing )\n",
    "\n",
    "\n",
    "scores"
   ]
  },
  {
   "cell_type": "code",
   "execution_count": 6,
   "metadata": {},
   "outputs": [
    {
     "data": {
      "text/plain": [
       "0.4773875"
      ]
     },
     "execution_count": 6,
     "metadata": {},
     "output_type": "execute_result"
    }
   ],
   "source": [
    "import gensim.downloader as api\n",
    "\n",
    "def w2v_vec(text,w2v):\n",
    "    text = text.split()\n",
    "    embeddings = [w2v[word] for word in text if word in w2v]\n",
    "    sentence_emb = sum(embeddings)/len(embeddings)\n",
    "    return sentence_emb\n",
    "\n",
    "def cos_sim(t1,t2,w2v):\n",
    "  v1 = w2v_vec(t1,w2v)\n",
    "  v2 = w2v_vec(t2,w2v)\n",
    "  score = cosine_similarity([v1], [v2])[0][0]\n",
    "  return score\n",
    "\n",
    "w2v = api.load(\"word2vec-google-news-300\")\n",
    "Q8 = 'running settlements expected monthly payments at the end of the examined month actual monthly payments'\n",
    "target_sample = 'Last rejection date of all applications within the observation perion'\n",
    "\n",
    "\n",
    "sim = cos_sim(Q8,target_sample,w2v)\n",
    "sim\n",
    "\n",
    "\n",
    "\n",
    "\n"
   ]
  },
  {
   "cell_type": "code",
   "execution_count": 9,
   "metadata": {},
   "outputs": [],
   "source": [
    "from helper import *\n",
    "\n",
    "path='../reports/corpus.xlsx'\n",
    "descriptions = get_column_values(path, 'descriptions_measures', 'A')\n",
    "targets = get_column_values(path, 'descriptions_measures', 'B')\n",
    "w2v = 'word2vec-google-news-300'\n",
    "\n",
    "dict_desc = percentage_of_words_in_word2vec_vocabulary(w2v,descriptions)\n",
    "dict_tar = percentage_of_words_in_word2vec_vocabulary(w2v,targets)\n"
   ]
  },
  {
   "cell_type": "code",
   "execution_count": 22,
   "metadata": {},
   "outputs": [
    {
     "data": {
      "text/plain": [
       "True"
      ]
     },
     "execution_count": 22,
     "metadata": {},
     "output_type": "execute_result"
    }
   ],
   "source": [
    "#dict_desc\n",
    "dict_tar\n",
    "w2v = api.load('word2vec-google-news-300')\n",
    "l = 'QC customer code'.split()\n",
    "\n",
    "words_found = 0\n",
    "for word in l:\n",
    "    if word in w2v:\n",
    "        words_found += 1\n",
    "\n",
    "words_found\n",
    "\n",
    "'QC' in w2v"
   ]
  },
  {
   "attachments": {},
   "cell_type": "markdown",
   "metadata": {},
   "source": [
    "# **Keywords**\n",
    "**RAKE**"
   ]
  },
  {
   "cell_type": "code",
   "execution_count": 1,
   "metadata": {},
   "outputs": [
    {
     "name": "stderr",
     "output_type": "stream",
     "text": [
      "c:\\Users\\avitsas\\Anaconda3\\envs\\project\\lib\\site-packages\\tqdm\\auto.py:21: TqdmWarning: IProgress not found. Please update jupyter and ipywidgets. See https://ipywidgets.readthedocs.io/en/stable/user_install.html\n",
      "  from .autonotebook import tqdm as notebook_tqdm\n"
     ]
    }
   ],
   "source": [
    "from helper import *\n",
    "\n",
    "path='../reports/corpus.xlsx'\n",
    "descriptions = get_column_values(path, 'descriptions_measures', 'A')\n",
    "language = 'en'\n",
    "library = 'rake'\n",
    "max_kw = 20\n",
    "max_length = 2\n",
    "min_length = 1\n",
    "stopwords = None #['settlement', 'earth', 'portfolio']\n",
    "\n",
    "rake_kw, rake_kw_sentence = kw_extraction(library=library, text=descriptions[7],\n",
    "                                          max_kw=max_kw, max_length=max_length, min_length=min_length,stopwords=stopwords)\n",
    "\n",
    "\n"
   ]
  },
  {
   "cell_type": "code",
   "execution_count": 2,
   "metadata": {},
   "outputs": [
    {
     "data": {
      "text/plain": [
       "['median duration',\n",
       " 'entry principal',\n",
       " 'earth portfolio',\n",
       " 'approved amount',\n",
       " 'application type',\n",
       " 'average days',\n",
       " 'average',\n",
       " 'written',\n",
       " 'shows',\n",
       " 'report',\n",
       " 'report',\n",
       " 'produced',\n",
       " 'number',\n",
       " 'month',\n",
       " 'create',\n",
       " 'balance',\n",
       " 'balance',\n",
       " 'approval']"
      ]
     },
     "execution_count": 2,
     "metadata": {},
     "output_type": "execute_result"
    }
   ],
   "source": [
    "rake_kw"
   ]
  },
  {
   "cell_type": "code",
   "execution_count": 19,
   "metadata": {},
   "outputs": [
    {
     "data": {
      "text/plain": [
       "'median duration entry principal earth portfolio approved amount application type average days average written shows report report produced number month create balance balance approval'"
      ]
     },
     "execution_count": 19,
     "metadata": {},
     "output_type": "execute_result"
    }
   ],
   "source": [
    "rake_kw_sentence"
   ]
  },
  {
   "cell_type": "code",
   "execution_count": 15,
   "metadata": {},
   "outputs": [],
   "source": [
    "from helper import *\n",
    "\n",
    "path='../reports/corpus.xlsx'\n",
    "descriptions = get_column_values(path, 'descriptions_measures', 'A')\n",
    "language = 'en'\n",
    "library = 'yake'\n",
    "max_kw = 20\n",
    "max_length = 2\n",
    "min_length = 1\n",
    "dedupLim = 0.4\n",
    "stopwords = ['report','settlement', 'earth', 'portfolio']\n",
    "\n",
    "yake_kw, yake_kw_sentence = kw_extraction(library=library, text=descriptions[7],\n",
    "                                          max_kw=max_kw, max_length=max_length, \n",
    "                                          min_length=min_length,stopwords=stopwords, dedupLim=dedupLim)"
   ]
  },
  {
   "cell_type": "code",
   "execution_count": 16,
   "metadata": {},
   "outputs": [
    {
     "data": {
      "text/plain": [
       "['their average and median duration and their entry principal and balance',\n",
       " 'Create a report that shows the number of settlement applications approved during the month',\n",
       " 'per DCA and application type',\n",
       " 'entry principal and balance',\n",
       " 'average and median duration',\n",
       " 'median duration and their',\n",
       " 'and their entry principal',\n",
       " 'approved during the month',\n",
       " 'the average days to approval',\n",
       " 'per DCA and',\n",
       " 'that shows the number',\n",
       " 'Create a report that shows the',\n",
       " 'their approved amount',\n",
       " 'for September',\n",
       " 'the written off',\n",
       " 'off balance',\n",
       " 'applications approved',\n",
       " 'and median',\n",
       " 'the month',\n",
       " 'and']"
      ]
     },
     "execution_count": 16,
     "metadata": {},
     "output_type": "execute_result"
    }
   ],
   "source": [
    "yake_kw"
   ]
  },
  {
   "cell_type": "code",
   "execution_count": 16,
   "metadata": {},
   "outputs": [
    {
     "data": {
      "text/plain": [
       "{'Application type in previous observation period': 0.5832898,\n",
       " 'Settlement duration more than 109 months': 0.5684567,\n",
       " 'Application type in the observation period': 0.5681168,\n",
       " 'Last rejection date of all applications within the observation perion': 0.5656159,\n",
       " 'Amount paid within the observation period': 0.548694,\n",
       " 'Application status at the end of the preceding observation period': 0.544276,\n",
       " 'Total payments amount so far': 0.5434998,\n",
       " 'Approved duration': 0.5432154,\n",
       " 'Status of the last submitted application within the observation period.': 0.5429452,\n",
       " 'Settlement duration to 6 months (included)': 0.5394004,\n",
       " 'Application bucket in the previous observation period': 0.53820497,\n",
       " 'Settlement duration 7 to 12 months (included)': 0.53812283,\n",
       " 'Approved amount': 0.53676146,\n",
       " 'Settlement duration 13 to 36 months (included)': 0.52966046,\n",
       " 'Settlement duration 37 to 72 months (included)': 0.52966046,\n",
       " 'Settlement duration 73 to 108 months (included)': 0.52966046,\n",
       " 'Application status in previous month': 0.52714646,\n",
       " 'Total future instalments amount': 0.48477063,\n",
       " 'Active application indicator': 0.4690689,\n",
       " 'Settlement duration': 0.46284878,\n",
       " 'External agency (DCA or legal office) assigned on previous observation point': 0.45959377,\n",
       " 'Payment prediction for stray payers, not in active settlement': 0.4589156,\n",
       " 'Principal amount class': 0.45217806,\n",
       " 'Discount amount': 0.42741972,\n",
       " 'Application submission date': 0.4262136,\n",
       " 'Application type': 0.42456448,\n",
       " 'Bucket class for active arrangements or cancelled status': 0.3954008,\n",
       " 'Approval date': 0.3877412,\n",
       " 'Payment prediction for settlement payers': 0.38702512,\n",
       " 'Unique application identifier': 0.37917864,\n",
       " 'External agency (DCA or legal office) currently assigned': 0.378419,\n",
       " 'Application indicator': 0.36418056,\n",
       " 'Principal on arrangement creation': 0.34491938,\n",
       " 'Application origin': 0.338699,\n",
       " 'Pending days': 0.33225375,\n",
       " 'Application status': 0.32727653,\n",
       " 'Months in arrears, 1 month ago': 0.3186638,\n",
       " 'Observation point date': 0.31492767,\n",
       " 'Observation point date (application)': 0.31492767,\n",
       " 'Observation point date (customer)': 0.31492767,\n",
       " 'Cancellation date': 0.31224218,\n",
       " 'Days to approval': 0.31158847,\n",
       " 'Asset class': 0.30713752,\n",
       " 'Observation point number': 0.3025032,\n",
       " 'Observation point number (application)': 0.3025032,\n",
       " 'Observation point number (customer)': 0.3025032,\n",
       " 'Rejection date': 0.29919678,\n",
       " 'Portfolio': 0.29704368,\n",
       " 'Portfolio grouping': 0.29267675,\n",
       " 'QC customer code': 0.27338034,\n",
       " 'Balance on arrangement creation': 0.27253002,\n",
       " 'Customer (primary account holder)': 0.27139357,\n",
       " 'Account segment': 0.2658627,\n",
       " 'QC case code': 0.26554763,\n",
       " 'Days to rejection': 0.2552688,\n",
       " 'Account status': 0.23938195,\n",
       " 'Customer segment': 0.2390159,\n",
       " 'Account concerned': 0.21153882,\n",
       " 'Days to cancellation': 0.20885736,\n",
       " 'Balance written off': 0.20231688,\n",
       " 'Customer': 0.1389438}"
      ]
     },
     "execution_count": 16,
     "metadata": {},
     "output_type": "execute_result"
    }
   ],
   "source": [
    "from helper import *\n",
    "\n",
    "path='../reports/corpus.xlsx'\n",
    "descriptions = get_column_values(path, 'descriptions_measures', 'A')\n",
    "targets = get_column_values(path, 'descriptions_measures', 'B')\n",
    "models = ['bow','tfidf','word2vec','sbert']\n",
    "preprocessing = False\n",
    "version_w2v = 'word2vec-google-news-300'\n",
    "version_sbert = 'bert-base-nli-mean-tokens'\n",
    "version_bow = 'preprocessedbow_model.joblib'\n",
    "version_tfidf = 'preprocessedtfidf_model.joblib'\n",
    "corpus = ['Descriptions']\n",
    "tm = TextModels(excel_path=path, columns=corpus,\n",
    "                 word2vec_version=version_w2v, sbert_model=version_sbert)\n",
    "n = 10\n",
    "scores = get_similarity_scores(text=rake_kw_sentence, documents=targets, encoding_method='word2vec',\n",
    "                               version=version_w2v, tm=tm, preprocessing=preprocessing )\n",
    "\n",
    "\n",
    "scores"
   ]
  },
  {
   "attachments": {},
   "cell_type": "markdown",
   "metadata": {},
   "source": [
    "**Metrics**"
   ]
  },
  {
   "cell_type": "code",
   "execution_count": 9,
   "metadata": {},
   "outputs": [],
   "source": [
    "from helper import *\n",
    "\n",
    "path='../reports/corpus.xlsx'\n",
    "descriptions = get_column_values(path, 'descriptions_measures', 'A')\n",
    "targets = get_column_values(path, 'descriptions_measures', 'B')\n",
    "model = 'word2vec'\n",
    "preprocessing = False\n",
    "version_w2v = 'word2vec-google-news-300'\n",
    "version_sbert = 'bert-base-nli-mean-tokens'\n",
    "version_bow = './models/trigrams_bow_model.joblib'\n",
    "version_tfidf = './models/trigrams_tfidf_model.joblib'\n",
    "corpus = ['Descriptions']\n",
    "tm = TextModels(excel_path=path, columns=corpus,\n",
    "                 word2vec_version=version_w2v)\n",
    "metric1 = 'precision'\n",
    "metric2 = 'recall'\n",
    "n = 10\n",
    "\n",
    "pr = evaluation_metrics(metric=metric1,values=descriptions, docs=targets, encoding_method=model,\n",
    "               version=version_w2v, tm=tm, preprocessing=preprocessing, path=path, n=n)\n",
    "\n",
    "rec = evaluation_metrics(metric=metric2, values=descriptions, docs=targets, encoding_method=model,\n",
    "               version=version_w2v, tm=tm, preprocessing=preprocessing, path=path, n=n)"
   ]
  },
  {
   "cell_type": "code",
   "execution_count": 11,
   "metadata": {},
   "outputs": [
    {
     "data": {
      "text/plain": [
       "{'Q1': 10.0,\n",
       " 'Q2': 20.0,\n",
       " 'Q3': 10.0,\n",
       " 'Q4': 30.0,\n",
       " 'Q5': 'One or both of the lists is empty',\n",
       " 'Q6': 0.0,\n",
       " 'Q7': 0.0,\n",
       " 'Q8': 0.0,\n",
       " 'Q9': 0.0}"
      ]
     },
     "execution_count": 11,
     "metadata": {},
     "output_type": "execute_result"
    }
   ],
   "source": [
    "rec\n",
    "\n",
    "pr"
   ]
  },
  {
   "cell_type": "code",
   "execution_count": 41,
   "metadata": {},
   "outputs": [],
   "source": [
    "from helper import *\n",
    "\n",
    "word2vec_version_fin_path = 'C:/Users/avitsas/Documents/VECTORS/word.w2v.200.bin'\n",
    "sentence = 'Provide the number of customers with active and running settlements of types Settlement, Preappoved, Resch to Sett, Out of Mandate Had Settlement and null on the Earth portfolio, \\\n",
    "    the corresponding number of applications, the initial settlement amount, discount amount and future instalments per asset class and DCA, for September 2020.'\n",
    "sentence = preprocess_text(sentence)\n",
    "embeddings = []\n",
    "embedding_model = KeyedVectors.load_word2vec_format(word2vec_version_fin_path, binary=True)\n",
    "\n",
    "for word in sentence:\n",
    "    if word in embedding_model:\n",
    "        embeddings.append(embedding_model.get_vector(word))\n",
    "if len(embeddings) > 0:\n",
    "    sentence_embedding = sum(embeddings) / len(embeddings)\n",
    "\n",
    "\n",
    "\n"
   ]
  },
  {
   "cell_type": "code",
   "execution_count": 1,
   "metadata": {},
   "outputs": [
    {
     "name": "stderr",
     "output_type": "stream",
     "text": [
      "c:\\Users\\avitsas\\Anaconda3\\envs\\project\\lib\\site-packages\\tqdm\\auto.py:21: TqdmWarning: IProgress not found. Please update jupyter and ipywidgets. See https://ipywidgets.readthedocs.io/en/stable/user_install.html\n",
      "  from .autonotebook import tqdm as notebook_tqdm\n"
     ]
    }
   ],
   "source": [
    "from helper import *\n",
    "\n",
    "path='../reports/corpus.xlsx'\n",
    "corpus = ['Descriptions']\n",
    "descriptions = get_column_values(path, 'descriptions_measures', 'A')\n",
    "targets = get_column_values(path, 'descriptions_measures', 'B')\n",
    "models = ['bow','tfidf','word2vec','sbert']\n",
    "bow_models = ['./models/bow_model.joblib', './models/bigrams_bow_model.joblib', './models/trigrams_bow_model.joblib']\n",
    "tfidf_models = ['./models/tfidf_model.joblib','./models/bigrams_tfidf_model.joblib', './models/trigrams_tfidf_model.joblib']\n",
    "w2v_fin_models = ['C:/Users/avitsas/Documents/VECTORS/word.w2v.200.bin', 'C:/Users/avitsas/Documents/VECTORS/word.norm.w2v.200.bin' ]\n",
    "w2v_models = ['word2vec-google-news-300', 'fasttext-wiki-news-subwords-300', 'glove-twitter-200']\n",
    "preprocessing = False\n",
    "version_sbert = 'bert-base-nli-mean-tokens'\n",
    "metric = 'r_precision'\n",
    "n = 10\n",
    "fin = True\n",
    "\n",
    "\n",
    "evaluation_dict = {}\n",
    "\n",
    "for model in models:\n",
    "    if model == 'bow':\n",
    "        for version_bow in bow_models:\n",
    "            tm = TextModels(excel_path=path, columns=corpus)\n",
    "            evaluation_dict[version_bow] = evaluation_metrics(metric=metric, values=descriptions, docs=targets, encoding_method=model,\n",
    "                                version=version_bow, tm=tm, preprocessing=preprocessing, path=path, n=n, fin=fin)\n",
    "    elif model == 'tfidf':\n",
    "        for version_tfidf in tfidf_models:\n",
    "            tm = TextModels(excel_path=path, columns=corpus)\n",
    "            evaluation_dict[version_tfidf] = evaluation_metrics(metric=metric, values=descriptions, docs=targets, encoding_method=model,\n",
    "                                version=version_tfidf, tm=tm, preprocessing=preprocessing, path=path, n=n, fin=fin)\n",
    "    elif model == 'word2vec':\n",
    "        for w2v_fin in w2v_fin_models:\n",
    "            tm = TextModels(excel_path=path, columns=corpus, word2vec_version_fin_path=w2v_fin)\n",
    "            evaluation_dict[w2v_fin] = evaluation_metrics(metric=metric, values=descriptions, docs=targets, encoding_method=model,\n",
    "                                version=w2v_fin, tm=tm, preprocessing=preprocessing, path=path, n=n, fin=fin)\n",
    "        fin = False\n",
    "        for w2v in w2v_models:\n",
    "            tm = TextModels(excel_path=path, columns=corpus, word2vec_version_fin_path=w2v_fin)\n",
    "            evaluation_dict[w2v] = evaluation_metrics(metric=metric, values=descriptions, docs=targets, encoding_method=model,\n",
    "                                version=w2v, tm=tm, preprocessing=preprocessing, path=path, n=n, fin=fin)\n",
    "        \n",
    "    '''elif model == 'sbert':\n",
    "        evaluation_dict[model] = evaluation_metrics(metric=metric, values=descriptions, docs=targets, encoding_method=model,\n",
    "                            version=version_sbert, tm=tm, preprocessing=preprocessing, path=path, n=n, fin=fin)'''\n",
    "\n"
   ]
  },
  {
   "cell_type": "code",
   "execution_count": 2,
   "metadata": {},
   "outputs": [
    {
     "data": {
      "text/html": [
       "<div>\n",
       "<style scoped>\n",
       "    .dataframe tbody tr th:only-of-type {\n",
       "        vertical-align: middle;\n",
       "    }\n",
       "\n",
       "    .dataframe tbody tr th {\n",
       "        vertical-align: top;\n",
       "    }\n",
       "\n",
       "    .dataframe thead th {\n",
       "        text-align: right;\n",
       "    }\n",
       "</style>\n",
       "<table border=\"1\" class=\"dataframe\">\n",
       "  <thead>\n",
       "    <tr style=\"text-align: right;\">\n",
       "      <th></th>\n",
       "      <th>./models/bow_model.joblib</th>\n",
       "      <th>./models/bigrams_bow_model.joblib</th>\n",
       "      <th>./models/trigrams_bow_model.joblib</th>\n",
       "      <th>./models/tfidf_model.joblib</th>\n",
       "      <th>./models/bigrams_tfidf_model.joblib</th>\n",
       "      <th>./models/trigrams_tfidf_model.joblib</th>\n",
       "      <th>C:/Users/avitsas/Documents/VECTORS/word.w2v.200.bin</th>\n",
       "      <th>C:/Users/avitsas/Documents/VECTORS/word.norm.w2v.200.bin</th>\n",
       "      <th>word2vec-google-news-300</th>\n",
       "      <th>fasttext-wiki-news-subwords-300</th>\n",
       "      <th>glove-twitter-200</th>\n",
       "    </tr>\n",
       "  </thead>\n",
       "  <tbody>\n",
       "    <tr>\n",
       "      <th>Q1</th>\n",
       "      <td>0.0</td>\n",
       "      <td>0.0</td>\n",
       "      <td>0.0</td>\n",
       "      <td>0.0</td>\n",
       "      <td>0.0</td>\n",
       "      <td>0.0</td>\n",
       "      <td>50.0</td>\n",
       "      <td>50.0</td>\n",
       "      <td>0.0</td>\n",
       "      <td>0.0</td>\n",
       "      <td>0.0</td>\n",
       "    </tr>\n",
       "    <tr>\n",
       "      <th>Q2</th>\n",
       "      <td>0.0</td>\n",
       "      <td>50.0</td>\n",
       "      <td>50.0</td>\n",
       "      <td>0.0</td>\n",
       "      <td>50.0</td>\n",
       "      <td>50.0</td>\n",
       "      <td>0.0</td>\n",
       "      <td>0.0</td>\n",
       "      <td>50.0</td>\n",
       "      <td>50.0</td>\n",
       "      <td>50.0</td>\n",
       "    </tr>\n",
       "    <tr>\n",
       "      <th>Q3</th>\n",
       "      <td>0.0</td>\n",
       "      <td>50.0</td>\n",
       "      <td>0.0</td>\n",
       "      <td>50.0</td>\n",
       "      <td>50.0</td>\n",
       "      <td>0.0</td>\n",
       "      <td>0.0</td>\n",
       "      <td>0.0</td>\n",
       "      <td>0.0</td>\n",
       "      <td>0.0</td>\n",
       "      <td>0.0</td>\n",
       "    </tr>\n",
       "    <tr>\n",
       "      <th>Q4</th>\n",
       "      <td>100.0</td>\n",
       "      <td>83.333333</td>\n",
       "      <td>83.333333</td>\n",
       "      <td>100.0</td>\n",
       "      <td>83.333333</td>\n",
       "      <td>83.333333</td>\n",
       "      <td>83.333333</td>\n",
       "      <td>83.333333</td>\n",
       "      <td>50.0</td>\n",
       "      <td>50.0</td>\n",
       "      <td>50.0</td>\n",
       "    </tr>\n",
       "    <tr>\n",
       "      <th>Q5</th>\n",
       "      <td>One or both of the lists is empty</td>\n",
       "      <td>One or both of the lists is empty</td>\n",
       "      <td>One or both of the lists is empty</td>\n",
       "      <td>One or both of the lists is empty</td>\n",
       "      <td>One or both of the lists is empty</td>\n",
       "      <td>One or both of the lists is empty</td>\n",
       "      <td>One or both of the lists is empty</td>\n",
       "      <td>One or both of the lists is empty</td>\n",
       "      <td>One or both of the lists is empty</td>\n",
       "      <td>One or both of the lists is empty</td>\n",
       "      <td>One or both of the lists is empty</td>\n",
       "    </tr>\n",
       "    <tr>\n",
       "      <th>Q6</th>\n",
       "      <td>0.0</td>\n",
       "      <td>33.333333</td>\n",
       "      <td>0.0</td>\n",
       "      <td>0.0</td>\n",
       "      <td>33.333333</td>\n",
       "      <td>0.0</td>\n",
       "      <td>0.0</td>\n",
       "      <td>0.0</td>\n",
       "      <td>0.0</td>\n",
       "      <td>0.0</td>\n",
       "      <td>0.0</td>\n",
       "    </tr>\n",
       "    <tr>\n",
       "      <th>Q7</th>\n",
       "      <td>0.0</td>\n",
       "      <td>25.0</td>\n",
       "      <td>0.0</td>\n",
       "      <td>0.0</td>\n",
       "      <td>25.0</td>\n",
       "      <td>0.0</td>\n",
       "      <td>0.0</td>\n",
       "      <td>0.0</td>\n",
       "      <td>0.0</td>\n",
       "      <td>0.0</td>\n",
       "      <td>0.0</td>\n",
       "    </tr>\n",
       "    <tr>\n",
       "      <th>Q8</th>\n",
       "      <td>0.0</td>\n",
       "      <td>33.333333</td>\n",
       "      <td>16.666667</td>\n",
       "      <td>33.333333</td>\n",
       "      <td>33.333333</td>\n",
       "      <td>16.666667</td>\n",
       "      <td>33.333333</td>\n",
       "      <td>33.333333</td>\n",
       "      <td>0.0</td>\n",
       "      <td>0.0</td>\n",
       "      <td>0.0</td>\n",
       "    </tr>\n",
       "    <tr>\n",
       "      <th>Q9</th>\n",
       "      <td>0.0</td>\n",
       "      <td>50.0</td>\n",
       "      <td>25.0</td>\n",
       "      <td>25.0</td>\n",
       "      <td>50.0</td>\n",
       "      <td>25.0</td>\n",
       "      <td>0.0</td>\n",
       "      <td>0.0</td>\n",
       "      <td>0.0</td>\n",
       "      <td>0.0</td>\n",
       "      <td>0.0</td>\n",
       "    </tr>\n",
       "  </tbody>\n",
       "</table>\n",
       "</div>"
      ],
      "text/plain": [
       "            ./models/bow_model.joblib  ./models/bigrams_bow_model.joblib  \\\n",
       "Q1                                0.0                                0.0   \n",
       "Q2                                0.0                               50.0   \n",
       "Q3                                0.0                               50.0   \n",
       "Q4                              100.0                          83.333333   \n",
       "Q5  One or both of the lists is empty  One or both of the lists is empty   \n",
       "Q6                                0.0                          33.333333   \n",
       "Q7                                0.0                               25.0   \n",
       "Q8                                0.0                          33.333333   \n",
       "Q9                                0.0                               50.0   \n",
       "\n",
       "   ./models/trigrams_bow_model.joblib        ./models/tfidf_model.joblib  \\\n",
       "Q1                                0.0                                0.0   \n",
       "Q2                               50.0                                0.0   \n",
       "Q3                                0.0                               50.0   \n",
       "Q4                          83.333333                              100.0   \n",
       "Q5  One or both of the lists is empty  One or both of the lists is empty   \n",
       "Q6                                0.0                                0.0   \n",
       "Q7                                0.0                                0.0   \n",
       "Q8                          16.666667                          33.333333   \n",
       "Q9                               25.0                               25.0   \n",
       "\n",
       "   ./models/bigrams_tfidf_model.joblib ./models/trigrams_tfidf_model.joblib  \\\n",
       "Q1                                 0.0                                  0.0   \n",
       "Q2                                50.0                                 50.0   \n",
       "Q3                                50.0                                  0.0   \n",
       "Q4                           83.333333                            83.333333   \n",
       "Q5   One or both of the lists is empty    One or both of the lists is empty   \n",
       "Q6                           33.333333                                  0.0   \n",
       "Q7                                25.0                                  0.0   \n",
       "Q8                           33.333333                            16.666667   \n",
       "Q9                                50.0                                 25.0   \n",
       "\n",
       "   C:/Users/avitsas/Documents/VECTORS/word.w2v.200.bin  \\\n",
       "Q1                                               50.0    \n",
       "Q2                                                0.0    \n",
       "Q3                                                0.0    \n",
       "Q4                                          83.333333    \n",
       "Q5                  One or both of the lists is empty    \n",
       "Q6                                                0.0    \n",
       "Q7                                                0.0    \n",
       "Q8                                          33.333333    \n",
       "Q9                                                0.0    \n",
       "\n",
       "   C:/Users/avitsas/Documents/VECTORS/word.norm.w2v.200.bin  \\\n",
       "Q1                                               50.0         \n",
       "Q2                                                0.0         \n",
       "Q3                                                0.0         \n",
       "Q4                                          83.333333         \n",
       "Q5                  One or both of the lists is empty         \n",
       "Q6                                                0.0         \n",
       "Q7                                                0.0         \n",
       "Q8                                          33.333333         \n",
       "Q9                                                0.0         \n",
       "\n",
       "             word2vec-google-news-300    fasttext-wiki-news-subwords-300  \\\n",
       "Q1                                0.0                                0.0   \n",
       "Q2                               50.0                               50.0   \n",
       "Q3                                0.0                                0.0   \n",
       "Q4                               50.0                               50.0   \n",
       "Q5  One or both of the lists is empty  One or both of the lists is empty   \n",
       "Q6                                0.0                                0.0   \n",
       "Q7                                0.0                                0.0   \n",
       "Q8                                0.0                                0.0   \n",
       "Q9                                0.0                                0.0   \n",
       "\n",
       "                    glove-twitter-200  \n",
       "Q1                                0.0  \n",
       "Q2                               50.0  \n",
       "Q3                                0.0  \n",
       "Q4                               50.0  \n",
       "Q5  One or both of the lists is empty  \n",
       "Q6                                0.0  \n",
       "Q7                                0.0  \n",
       "Q8                                0.0  \n",
       "Q9                                0.0  "
      ]
     },
     "execution_count": 2,
     "metadata": {},
     "output_type": "execute_result"
    }
   ],
   "source": [
    "evaluation_df = dict_to_dataframe(evaluation_dict)\n",
    "evaluation_df"
   ]
  },
  {
   "cell_type": "code",
   "execution_count": 3,
   "metadata": {},
   "outputs": [
    {
     "name": "stderr",
     "output_type": "stream",
     "text": [
      "c:\\Users\\avitsas\\Documents\\thesis-backup\\thesis\\code\\helper.py:86: FutureWarning: save is not part of the public API, usage can give unexpected results and will be removed in a future version\n",
      "  writer.save()\n"
     ]
    }
   ],
   "source": [
    "save_df_to_excel(evaluation_df, '../reports/results/metrics5.xlsx', 'r_precision')"
   ]
  }
 ],
 "metadata": {
  "kernelspec": {
   "display_name": "project",
   "language": "python",
   "name": "python3"
  },
  "language_info": {
   "codemirror_mode": {
    "name": "ipython",
    "version": 3
   },
   "file_extension": ".py",
   "mimetype": "text/x-python",
   "name": "python",
   "nbconvert_exporter": "python",
   "pygments_lexer": "ipython3",
   "version": "3.9.16"
  },
  "orig_nbformat": 4,
  "vscode": {
   "interpreter": {
    "hash": "6730b402c0f33b6bed7f8d0f7f3f069d5734816b753f081e1b7690f9108853e7"
   }
  }
 },
 "nbformat": 4,
 "nbformat_minor": 2
}
