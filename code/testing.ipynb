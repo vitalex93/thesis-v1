{
 "cells": [
  {
   "cell_type": "code",
   "execution_count": null,
   "metadata": {},
   "outputs": [],
   "source": [
    "from helper import *\n",
    "\n",
    "path='../reports/corpus.xlsx'\n",
    "\n",
    "description = get_column_values(path, 'descriptions_measures', 'A')\n",
    "\n",
    "\n",
    "targets = get_column_values(path, 'descriptions_measures', 'B')\n",
    "\n",
    "similarities_df = similarities_df(docs=description,group=targets,encoding_method='tfidf')\n",
    "\n",
    "similarities_df.head()"
   ]
  },
  {
   "cell_type": "code",
   "execution_count": null,
   "metadata": {},
   "outputs": [],
   "source": [
    "from helper import *\n",
    "\n",
    "Q1 = 'Create a report that shows the number of settlement applications approved during the month, their approved amount,\\\n",
    "      the written off balance, the average days to approval, their average and median duration and their entry principal and balance, \\\n",
    "        for September 2020 per DCA and application type. The report should be produced on Earth portfolio. '\n",
    "\n",
    "processed_text = preprocess_text(Q1)\n",
    "\n",
    "\n",
    "\n",
    "w2v = api.load(\"word2vec-google-news-300\")\n",
    "vocab = w2v.index_to_key\n",
    "words = Q1.split()\n",
    "\n",
    "\n",
    "count = sum(1 for word in processed_text if word in w2v)\n",
    "existing_words = [word for word in processed_text if word in w2v]\n",
    "difference = len(words) - count\n",
    "\n",
    "pr, orig = get_unique_items(words, processed_text)\n",
    "\n",
    "pr"
   ]
  },
  {
   "attachments": {},
   "cell_type": "markdown",
   "metadata": {},
   "source": [
    "**Save BOW models**"
   ]
  },
  {
   "cell_type": "code",
   "execution_count": 2,
   "metadata": {},
   "outputs": [
    {
     "name": "stdout",
     "output_type": "stream",
     "text": [
      "Bag-of-words model saved to trigrams_bow_model.joblib\n",
      "TF-IDF model saved to trigrams_tfidf_model.joblib\n"
     ]
    }
   ],
   "source": [
    "from helper import *\n",
    "\n",
    "path='../reports/corpus.xlsx'\n",
    "descriptions = get_column_values(path, 'descriptions_measures', 'A')\n",
    "targets = get_column_values(path, 'descriptions_measures', 'B')\n",
    "models = ['bow','tfidf','word2vec','sbert']\n",
    "version_w2v = 'word2vec-google-news-300'\n",
    "version_sbert = 'bert-base-nli-mean-tokens'\n",
    "version_bow = '/models/bow_model.joblib'\n",
    "version_tfidf = '/models/tfidf_model.joblib'\n",
    "corpus = ['Descriptions']\n",
    "tm = TextModels(excel_path=path, columns=corpus,\n",
    "                 word2vec_version=version_w2v, sbert_model=version_sbert)\n",
    "ngram_range = (3,3)\n",
    "\n",
    "tm.build_bow_model(preprocessing=False, ngram_range=ngram_range)\n",
    "tm.build_tfidf_model(preprocessing=False, ngram_range=ngram_range)\n",
    "\n",
    "tm.save_models('trigrams_')"
   ]
  },
  {
   "attachments": {},
   "cell_type": "markdown",
   "metadata": {},
   "source": [
    "**Save yake and rake models**"
   ]
  },
  {
   "cell_type": "code",
   "execution_count": 3,
   "metadata": {},
   "outputs": [],
   "source": [
    "from helper import *\n",
    "\n",
    "path='../reports/corpus.xlsx'\n",
    "descriptions = get_column_values(path, 'descriptions_measures', 'A')\n",
    "targets = get_column_values(path, 'descriptions_measures', 'B')\n",
    "mode = 'yake'\n",
    "\n",
    "ykw_corpus = build_kw_corpus(mode=mode, descriptions=descriptions, targets=targets)"
   ]
  },
  {
   "cell_type": "code",
   "execution_count": 4,
   "metadata": {},
   "outputs": [],
   "source": [
    "from helper import *\n",
    "\n",
    "path='../reports/corpus.xlsx'\n",
    "descriptions = get_column_values(path, 'descriptions_measures', 'A')\n",
    "targets = get_column_values(path, 'descriptions_measures', 'B')\n",
    "mode = 'rake'\n",
    "\n",
    "rkw_corpus = build_kw_corpus(mode=mode, descriptions=descriptions, targets=targets)"
   ]
  },
  {
   "cell_type": "code",
   "execution_count": 6,
   "metadata": {},
   "outputs": [
    {
     "data": {
      "text/plain": [
       "<71x123 sparse matrix of type '<class 'numpy.int64'>'\n",
       "\twith 381 stored elements in Compressed Sparse Row format>"
      ]
     },
     "execution_count": 6,
     "metadata": {},
     "output_type": "execute_result"
    }
   ],
   "source": [
    "ngram_range = (1,1)\n",
    "\n",
    "yake_bow_model = CountVectorizer(ngram_range=ngram_range)\n",
    "yake_bow_model.fit_transform(ykw_corpus)\n",
    "\n",
    "rake_bow_model = CountVectorizer(ngram_range=ngram_range)\n",
    "rake_bow_model.fit_transform(rkw_corpus)"
   ]
  },
  {
   "cell_type": "code",
   "execution_count": 7,
   "metadata": {},
   "outputs": [
    {
     "data": {
      "text/plain": [
       "['./models/rkw_bow_model.joblib']"
      ]
     },
     "execution_count": 7,
     "metadata": {},
     "output_type": "execute_result"
    }
   ],
   "source": [
    "joblib.dump(yake_bow_model, './models/ykw_bow_model.joblib')\n",
    "joblib.dump(rake_bow_model, './models/rkw_bow_model.joblib')"
   ]
  },
  {
   "cell_type": "code",
   "execution_count": 8,
   "metadata": {},
   "outputs": [
    {
     "data": {
      "text/plain": [
       "<71x123 sparse matrix of type '<class 'numpy.float64'>'\n",
       "\twith 381 stored elements in Compressed Sparse Row format>"
      ]
     },
     "execution_count": 8,
     "metadata": {},
     "output_type": "execute_result"
    }
   ],
   "source": [
    "yake_tfidf_model = TfidfVectorizer(ngram_range=ngram_range)\n",
    "yake_tfidf_model.fit_transform(ykw_corpus)\n",
    "\n",
    "rake_tfidf_model = TfidfVectorizer(ngram_range=ngram_range)\n",
    "rake_tfidf_model.fit_transform(rkw_corpus)"
   ]
  },
  {
   "cell_type": "code",
   "execution_count": 9,
   "metadata": {},
   "outputs": [
    {
     "data": {
      "text/plain": [
       "['./models/rkw_rfidf_model.joblib']"
      ]
     },
     "execution_count": 9,
     "metadata": {},
     "output_type": "execute_result"
    }
   ],
   "source": [
    "joblib.dump(yake_tfidf_model, './models/ykw_tfidf_model.joblib')\n",
    "joblib.dump(rake_tfidf_model, './models/rkw_rfidf_model.joblib')"
   ]
  },
  {
   "attachments": {},
   "cell_type": "markdown",
   "metadata": {},
   "source": [
    "**Testing W2V models**"
   ]
  },
  {
   "cell_type": "code",
   "execution_count": 61,
   "metadata": {},
   "outputs": [
    {
     "data": {
      "text/plain": [
       "{'Total payments amount so far': 0.6399805,\n",
       " 'Application status at the end of the preceding observation period': 0.63616157,\n",
       " 'Application status in previous month': 0.6337284,\n",
       " 'Payment prediction for stray payers, not in active settlement': 0.62978095,\n",
       " 'Last rejection date of all applications within the observation perion': 0.5950874,\n",
       " 'Amount paid within the observation period': 0.58748496,\n",
       " 'Settlement duration more than 109 months': 0.57428753,\n",
       " 'Status of the last submitted application within the observation period.': 0.5735114,\n",
       " 'External agency (DCA or legal office) assigned on previous observation point': 0.56485486,\n",
       " 'Application bucket in the previous observation period': 0.5552512,\n",
       " 'Payment prediction for settlement payers': 0.55217916,\n",
       " 'Application type in previous observation period': 0.5429492,\n",
       " 'Application type in the observation period': 0.538208,\n",
       " 'Settlement duration 7 to 12 months (included)': 0.5315263,\n",
       " 'Settlement duration to 6 months (included)': 0.52221775,\n",
       " 'Bucket class for active arrangements or cancelled status': 0.51104593,\n",
       " 'Total future instalments amount': 0.4856716,\n",
       " 'Settlement duration 13 to 36 months (included)': 0.47869265,\n",
       " 'Settlement duration 37 to 72 months (included)': 0.47869265,\n",
       " 'Settlement duration 73 to 108 months (included)': 0.47869265,\n",
       " 'Months in arrears, 1 month ago': 0.46254456,\n",
       " 'External agency (DCA or legal office) currently assigned': 0.45974272,\n",
       " 'Observation point date': 0.4286198,\n",
       " 'Observation point date (application)': 0.4286198,\n",
       " 'Observation point date (customer)': 0.4286198,\n",
       " 'Observation point number': 0.4137042,\n",
       " 'Observation point number (application)': 0.4137042,\n",
       " 'Observation point number (customer)': 0.4137042,\n",
       " 'Balance on arrangement creation': 0.41275346,\n",
       " 'Settlement duration': 0.39428237,\n",
       " 'Approved amount': 0.38886914,\n",
       " 'Active application indicator': 0.3802936,\n",
       " 'Application submission date': 0.3696065,\n",
       " 'Discount amount': 0.36461043,\n",
       " 'Cancellation date': 0.35067046,\n",
       " 'Approved duration': 0.34406847,\n",
       " 'Principal on arrangement creation': 0.33812004,\n",
       " 'Pending days': 0.3376397,\n",
       " 'Approval date': 0.33079734,\n",
       " 'Application indicator': 0.33073738,\n",
       " 'Customer (primary account holder)': 0.32568705,\n",
       " 'Rejection date': 0.32083288,\n",
       " 'Balance written off': 0.3022555,\n",
       " 'Application status': 0.2971598,\n",
       " 'Account status': 0.2962883,\n",
       " 'Principal amount class': 0.29274017,\n",
       " 'Application type': 0.28831404,\n",
       " 'Account concerned': 0.28076458,\n",
       " 'Account segment': 0.27407765,\n",
       " 'Days to approval': 0.25557244,\n",
       " 'Application origin': 0.253084,\n",
       " 'Days to cancellation': 0.24718209,\n",
       " 'Unique application identifier': 0.24669811,\n",
       " 'Customer segment': 0.23382282,\n",
       " 'QC customer code': 0.22755595,\n",
       " 'Days to rejection': 0.21468166,\n",
       " 'QC case code': 0.21019813,\n",
       " 'Asset class': 0.20943815,\n",
       " 'Portfolio grouping': 0.18516177,\n",
       " 'Customer': 0.16477478,\n",
       " 'Portfolio': 0.12192309}"
      ]
     },
     "execution_count": 61,
     "metadata": {},
     "output_type": "execute_result"
    }
   ],
   "source": [
    "from helper import *\n",
    "\n",
    "path='../reports/corpus.xlsx'\n",
    "descriptions = get_column_values(path, 'descriptions_measures', 'A')\n",
    "targets = get_column_values(path, 'descriptions_measures', 'B')\n",
    "models = ['bow','tfidf','word2vec','sbert']\n",
    "preprocessing = False\n",
    "version_w2v = 'word2vec-google-news-300'\n",
    "version_sbert = 'bert-base-nli-mean-tokens'\n",
    "version_bow = 'preprocessedbow_model.joblib'\n",
    "version_tfidf = 'preprocessedtfidf_model.joblib'\n",
    "corpus = ['Descriptions']\n",
    "tm = TextModels(excel_path=path, columns=corpus,\n",
    "                 word2vec_version=version_w2v, sbert_model=version_sbert)\n",
    "n = 10\n",
    "Q8 = 'running settlements expected monthly payments at the end of the examined month actual monthly payments'\n",
    "scores = get_similarity_scores(text=descriptions[0], documents=targets, encoding_method='word2vec',\n",
    "                               version=version_w2v, tm=tm, preprocessing=preprocessing )\n",
    "\n",
    "\n",
    "scores"
   ]
  },
  {
   "cell_type": "code",
   "execution_count": 6,
   "metadata": {},
   "outputs": [
    {
     "data": {
      "text/plain": [
       "0.4773875"
      ]
     },
     "execution_count": 6,
     "metadata": {},
     "output_type": "execute_result"
    }
   ],
   "source": [
    "import gensim.downloader as api\n",
    "\n",
    "def w2v_vec(text,w2v):\n",
    "    text = text.split()\n",
    "    embeddings = [w2v[word] for word in text if word in w2v]\n",
    "    sentence_emb = sum(embeddings)/len(embeddings)\n",
    "    return sentence_emb\n",
    "\n",
    "def cos_sim(t1,t2,w2v):\n",
    "  v1 = w2v_vec(t1,w2v)\n",
    "  v2 = w2v_vec(t2,w2v)\n",
    "  score = cosine_similarity([v1], [v2])[0][0]\n",
    "  return score\n",
    "\n",
    "w2v = api.load(\"word2vec-google-news-300\")\n",
    "Q8 = 'running settlements expected monthly payments at the end of the examined month actual monthly payments'\n",
    "target_sample = 'Last rejection date of all applications within the observation perion'\n",
    "\n",
    "\n",
    "sim = cos_sim(Q8,target_sample,w2v)\n",
    "sim\n",
    "\n",
    "\n",
    "\n",
    "\n"
   ]
  },
  {
   "cell_type": "code",
   "execution_count": 9,
   "metadata": {},
   "outputs": [],
   "source": [
    "from helper import *\n",
    "\n",
    "path='../reports/corpus.xlsx'\n",
    "descriptions = get_column_values(path, 'descriptions_measures', 'A')\n",
    "targets = get_column_values(path, 'descriptions_measures', 'B')\n",
    "w2v = 'word2vec-google-news-300'\n",
    "\n",
    "dict_desc = percentage_of_words_in_word2vec_vocabulary(w2v,descriptions)\n",
    "dict_tar = percentage_of_words_in_word2vec_vocabulary(w2v,targets)\n"
   ]
  },
  {
   "cell_type": "code",
   "execution_count": 22,
   "metadata": {},
   "outputs": [
    {
     "data": {
      "text/plain": [
       "True"
      ]
     },
     "execution_count": 22,
     "metadata": {},
     "output_type": "execute_result"
    }
   ],
   "source": [
    "#dict_desc\n",
    "dict_tar\n",
    "w2v = api.load('word2vec-google-news-300')\n",
    "l = 'QC customer code'.split()\n",
    "\n",
    "words_found = 0\n",
    "for word in l:\n",
    "    if word in w2v:\n",
    "        words_found += 1\n",
    "\n",
    "words_found\n",
    "\n",
    "'QC' in w2v"
   ]
  },
  {
   "attachments": {},
   "cell_type": "markdown",
   "metadata": {},
   "source": [
    "# **Keywords**\n",
    "**RAKE**"
   ]
  },
  {
   "cell_type": "code",
   "execution_count": 34,
   "metadata": {},
   "outputs": [],
   "source": [
    "from helper import *\n",
    "\n",
    "path='../reports/corpus.xlsx'\n",
    "descriptions = get_column_values(path, 'descriptions_measures', 'A')\n",
    "language = 'en'\n",
    "library = 'rake'\n",
    "max_kw = 20\n",
    "max_length = 5\n",
    "min_length = 1\n",
    "stopwords = None#['create','report', 'earth', 'portfolio']\n",
    "\n",
    "rake_kw, rake_kw_sentence = kw_extraction(library=library, text=descriptions[0],\n",
    "                                          max_kw=max_kw, max_length=max_length, min_length=min_length,stopwords=stopwords)\n",
    "\n",
    "\n"
   ]
  },
  {
   "cell_type": "code",
   "execution_count": 35,
   "metadata": {},
   "outputs": [
    {
     "data": {
      "text/plain": [
       "['actual monthly payments per dca',\n",
       " 'expected monthly payments',\n",
       " 'september 2020',\n",
       " 'running settlements',\n",
       " 'examined month',\n",
       " 'earth portfolio',\n",
       " 'report',\n",
       " 'provide',\n",
       " 'number',\n",
       " 'end',\n",
       " 'displays',\n",
       " 'accounts']"
      ]
     },
     "execution_count": 35,
     "metadata": {},
     "output_type": "execute_result"
    }
   ],
   "source": [
    "rake_kw"
   ]
  },
  {
   "cell_type": "code",
   "execution_count": 19,
   "metadata": {},
   "outputs": [
    {
     "data": {
      "text/plain": [
       "'median duration entry principal earth portfolio approved amount application type average days average written shows report report produced number month create balance balance approval'"
      ]
     },
     "execution_count": 19,
     "metadata": {},
     "output_type": "execute_result"
    }
   ],
   "source": [
    "rake_kw_sentence"
   ]
  },
  {
   "attachments": {},
   "cell_type": "markdown",
   "metadata": {},
   "source": [
    "**YAKE**"
   ]
  },
  {
   "cell_type": "code",
   "execution_count": 38,
   "metadata": {},
   "outputs": [],
   "source": [
    "from helper import *\n",
    "\n",
    "path='../reports/corpus.xlsx'\n",
    "descriptions = get_column_values(path, 'descriptions_measures', 'A')\n",
    "language = 'en'\n",
    "library = 'yake'\n",
    "max_length = 5 #for rake\n",
    "min_length = 1 #for rake\n",
    "max_kw = 20\n",
    "dedupLim = 0.8\n",
    "n = 3\n",
    "stopwords = ['their','displays','report', 'that', 'the',\n",
    "             'settlement', 'earth', 'portfolio', 'and']\n",
    "\n",
    "yake_kw, yake_kw_sentence = kw_extraction(library=library, text=descriptions[5],\n",
    "                                          max_kw=max_kw, max_length=max_length, n=n,\n",
    "                                          min_length=min_length,stopwords=stopwords, dedupLim=dedupLim)"
   ]
  },
  {
   "cell_type": "code",
   "execution_count": 39,
   "metadata": {},
   "outputs": [
    {
     "data": {
      "text/plain": [
       "['applications submitted during',\n",
       " 'for September',\n",
       " 'per DCA',\n",
       " 'during the month',\n",
       " 'principal and balance',\n",
       " 'application type',\n",
       " 'shows the number',\n",
       " 'submitted during',\n",
       " 'approved amount',\n",
       " 'entry principal',\n",
       " 'applications submitted',\n",
       " 'DCA and application',\n",
       " 'September',\n",
       " 'DCA',\n",
       " 'Create',\n",
       " 'month',\n",
       " 'balance',\n",
       " 'for',\n",
       " 'per',\n",
       " 'type']"
      ]
     },
     "execution_count": 39,
     "metadata": {},
     "output_type": "execute_result"
    }
   ],
   "source": [
    "yake_kw"
   ]
  },
  {
   "cell_type": "code",
   "execution_count": 14,
   "metadata": {},
   "outputs": [
    {
     "data": {
      "text/plain": [
       "{'Last rejection date of all applications within the observation perion': 0.62871206,\n",
       " 'Settlement duration more than 109 months': 0.61768234,\n",
       " 'Settlement duration 7 to 12 months (included)': 0.60358554,\n",
       " 'Settlement duration 13 to 36 months (included)': 0.6034324,\n",
       " 'Settlement duration 37 to 72 months (included)': 0.6034324,\n",
       " 'Settlement duration 73 to 108 months (included)': 0.6034324,\n",
       " 'Settlement duration to 6 months (included)': 0.60212064,\n",
       " 'Payment prediction for stray payers, not in active settlement': 0.6012644,\n",
       " 'Status of the last submitted application within the observation period.': 0.59962094,\n",
       " 'Approved amount': 0.591117,\n",
       " 'Application status in previous month': 0.5853797,\n",
       " 'Application type in the observation period': 0.56741595,\n",
       " 'Application type in previous observation period': 0.5660828,\n",
       " 'Total payments amount so far': 0.56281215,\n",
       " 'Application status at the end of the preceding observation period': 0.5568165,\n",
       " 'Payment prediction for settlement payers': 0.5420778,\n",
       " 'Settlement duration': 0.53692734,\n",
       " 'Approved duration': 0.53312117,\n",
       " 'Amount paid within the observation period': 0.5285593,\n",
       " 'Application bucket in the previous observation period': 0.52158916,\n",
       " 'Approval date': 0.51518583,\n",
       " 'Application submission date': 0.49244687,\n",
       " 'Active application indicator': 0.48042935,\n",
       " 'External agency (DCA or legal office) assigned on previous observation point': 0.4732386,\n",
       " 'Application type': 0.4629901,\n",
       " 'Days to approval': 0.46179244,\n",
       " 'Bucket class for active arrangements or cancelled status': 0.4440285,\n",
       " 'Total future instalments amount': 0.43675807,\n",
       " 'Discount amount': 0.4349532,\n",
       " 'External agency (DCA or legal office) currently assigned': 0.4237582,\n",
       " 'Principal amount class': 0.4146021,\n",
       " 'Application status': 0.41253036,\n",
       " 'Unique application identifier': 0.41251242,\n",
       " 'Pending days': 0.40551794,\n",
       " 'Principal on arrangement creation': 0.39510295,\n",
       " 'Rejection date': 0.39409566,\n",
       " 'Application indicator': 0.38732344,\n",
       " 'Application origin': 0.3526867,\n",
       " 'Balance on arrangement creation': 0.34197152,\n",
       " 'Cancellation date': 0.3388481,\n",
       " 'Months in arrears, 1 month ago': 0.33777523,\n",
       " 'Observation point number': 0.33039397,\n",
       " 'Observation point number (application)': 0.33039397,\n",
       " 'Observation point number (customer)': 0.33039397,\n",
       " 'Observation point date': 0.31116864,\n",
       " 'Observation point date (application)': 0.31116864,\n",
       " 'Observation point date (customer)': 0.31116864,\n",
       " 'Days to rejection': 0.30414185,\n",
       " 'QC case code': 0.29304996,\n",
       " 'Account status': 0.27684623,\n",
       " 'QC customer code': 0.26036298,\n",
       " 'Customer (primary account holder)': 0.24865378,\n",
       " 'Account segment': 0.24711761,\n",
       " 'Days to cancellation': 0.23617625,\n",
       " 'Account concerned': 0.23128289,\n",
       " 'Asset class': 0.22299871,\n",
       " 'Balance written off': 0.20460144,\n",
       " 'Customer segment': 0.20142964,\n",
       " 'Portfolio grouping': 0.19317654,\n",
       " 'Portfolio': 0.1604717,\n",
       " 'Customer': 0.1251789}"
      ]
     },
     "execution_count": 14,
     "metadata": {},
     "output_type": "execute_result"
    }
   ],
   "source": [
    "from helper import *\n",
    "\n",
    "path='../reports/corpus.xlsx'\n",
    "descriptions = get_column_values(path, 'descriptions_measures', 'A')\n",
    "targets = get_column_values(path, 'descriptions_measures', 'B')\n",
    "models = ['bow','tfidf','word2vec','sbert']\n",
    "preprocessing = False\n",
    "version_w2v = 'word2vec-google-news-300'\n",
    "version_sbert = 'bert-base-nli-mean-tokens'\n",
    "version_bow = 'preprocessedbow_model.joblib'\n",
    "version_tfidf = 'preprocessedtfidf_model.joblib'\n",
    "corpus = ['Descriptions']\n",
    "tm = TextModels(excel_path=path, columns=corpus,\n",
    "                 word2vec_version=version_w2v, sbert_model=version_sbert)\n",
    "n = 10\n",
    "scores = get_similarity_scores(text=yake_kw_sentence, documents=targets, encoding_method='word2vec',\n",
    "                               version=version_w2v, tm=tm, preprocessing=preprocessing )\n",
    "\n",
    "\n",
    "scores"
   ]
  },
  {
   "cell_type": "code",
   "execution_count": 1,
   "metadata": {},
   "outputs": [
    {
     "name": "stderr",
     "output_type": "stream",
     "text": [
      "c:\\Users\\avitsas\\Anaconda3\\envs\\project\\lib\\site-packages\\tqdm\\auto.py:21: TqdmWarning: IProgress not found. Please update jupyter and ipywidgets. See https://ipywidgets.readthedocs.io/en/stable/user_install.html\n",
      "  from .autonotebook import tqdm as notebook_tqdm\n"
     ]
    },
    {
     "data": {
      "text/plain": [
       "'expected monthly payments september 2020 running settlements examined month earth portfolio'"
      ]
     },
     "execution_count": 1,
     "metadata": {},
     "output_type": "execute_result"
    }
   ],
   "source": [
    "from helper import *\n",
    "\n",
    "path='../reports/corpus.xlsx'\n",
    "descriptions = get_column_values(path, 'descriptions_measures', 'A')\n",
    "'''language = 'en'\n",
    "library = 'yake'\n",
    "max_kw = 10\n",
    "dedupLim = 0.9\n",
    "stopwords = ['report','settlement', 'earth', 'portfolio']'''\n",
    "kwe = KeywordExtractor()\n",
    "\n",
    "ykws = kwe(mode='yake', text=descriptions[0])\n",
    "rkws = kwe(mode='rake', text=descriptions[0])\n",
    "\n",
    "rkws\n"
   ]
  },
  {
   "attachments": {},
   "cell_type": "markdown",
   "metadata": {},
   "source": [
    "**Similarity metrics**"
   ]
  },
  {
   "cell_type": "code",
   "execution_count": 4,
   "metadata": {},
   "outputs": [
    {
     "data": {
      "text/plain": [
       "0.11538461538461542"
      ]
     },
     "execution_count": 4,
     "metadata": {},
     "output_type": "execute_result"
    }
   ],
   "source": [
    "from similarity import *\n",
    "\n",
    "\n",
    "string_a = 'Amount paid within the observation period'\n",
    "string_b = 'Hello Word!'\n",
    "\n",
    "algs = textdistance.algorithms\n",
    "algs.levenshtein.distance(string_a, string_b)\n",
    "# Distance equals 1.0\n",
    "algs.levenshtein.similarity(string_a, string_b)\n",
    "# Similarity equals 11\n",
    "algs.ratcliff_obershelp.normalized_similarity(string_a, string_b)\n",
    "# Similarity Normalized equals 0.9166666666666666\n"
   ]
  },
  {
   "cell_type": "code",
   "execution_count": 8,
   "metadata": {},
   "outputs": [
    {
     "data": {
      "text/plain": [
       "0.15209125475285168"
      ]
     },
     "execution_count": 8,
     "metadata": {},
     "output_type": "execute_result"
    }
   ],
   "source": [
    "from similarity import *\n",
    "from helper import *\n",
    "\n",
    "path='../reports/corpus.xlsx'\n",
    "descriptions = get_column_values(path, 'descriptions_measures', 'A')\n",
    "targets = get_column_values(path, 'descriptions_measures', 'B')\n",
    "algorithm = 'ratcliff_obershelp'\n",
    "mode = 'seq'\n",
    "string_a = descriptions[0]\n",
    "string_b = 'Amount paid within the observation period'\n",
    "string_c = 'Balance on arrangement creation'\n",
    "\n",
    "dsc = DocumentSimilarityCalculator(algorithm=algorithm, mode=mode)\n",
    "dsc.calculate_similarity(string_a, string_c)\n",
    "\n"
   ]
  },
  {
   "cell_type": "code",
   "execution_count": 59,
   "metadata": {},
   "outputs": [],
   "source": [
    "from helper import *\n",
    "\n",
    "path='../reports/corpus.xlsx'\n",
    "descriptions = get_column_values(path, 'descriptions_measures', 'A')\n",
    "targets = get_column_values(path, 'descriptions_measures', 'B')\n",
    "algorithm = 'cosine'\n",
    "mode = 'token'\n",
    "\n",
    "scores = get_similarity_scores_td(text=descriptions[0], documents=targets,\n",
    "                                  algorithm=algorithm, mode=mode)"
   ]
  },
  {
   "cell_type": "code",
   "execution_count": 60,
   "metadata": {},
   "outputs": [
    {
     "data": {
      "text/plain": [
       "{'Status of the last submitted application within the observation period.': 0.553203834728774,\n",
       " 'External agency (DCA or legal office) assigned on previous observation point': 0.5346967694017905,\n",
       " 'Last rejection date of all applications within the observation perion': 0.5295491373381438,\n",
       " 'Application status at the end of the preceding observation period': 0.5293131528623707,\n",
       " 'Payment prediction for stray payers, not in active settlement': 0.5127680123435535,\n",
       " 'Bucket class for active arrangements or cancelled status': 0.4649838442026326,\n",
       " 'Application bucket in the previous observation period': 0.45992630452640504,\n",
       " 'External agency (DCA or legal office) currently assigned': 0.4562105641233377,\n",
       " 'Application type in previous observation period': 0.4405192693921527,\n",
       " 'Application type in the observation period': 0.4254814716983816,\n",
       " 'Amount paid within the observation period': 0.4203857013874692,\n",
       " 'Payment prediction for settlement payers': 0.4152273992686999,\n",
       " 'Settlement duration 7 to 12 months (included)': 0.401267150001714,\n",
       " 'Settlement duration 37 to 72 months (included)': 0.3968815849894627,\n",
       " 'Settlement duration to 6 months (included)': 0.3950899380056401,\n",
       " 'Settlement duration more than 109 months': 0.39446602930526486,\n",
       " 'Application status in previous month': 0.39391929857916763,\n",
       " 'Settlement duration 73 to 108 months (included)': 0.39263674011039695,\n",
       " 'Settlement duration 13 to 36 months (included)': 0.3872015463311832,\n",
       " 'Principal on arrangement creation': 0.37714901472805784,\n",
       " 'Observation point number (application)': 0.37276253248701685,\n",
       " 'Observation point date (application)': 0.3610926903642371,\n",
       " 'Observation point number (customer)': 0.3551174092947802,\n",
       " 'Customer (primary account holder)': 0.35429149868393317,\n",
       " 'Balance on arrangement creation': 0.3537499729774336,\n",
       " 'Total future instalments amount': 0.3537499729774336,\n",
       " 'Active application indicator': 0.34740416688982556,\n",
       " 'Observation point date (customer)': 0.34286274066187084,\n",
       " 'Application submission date': 0.3411441196105065,\n",
       " 'Months in arrears, 1 month ago': 0.335624311039769,\n",
       " 'Total payments amount so far': 0.33499687521518895,\n",
       " 'Unique application identifier': 0.3291703981385652,\n",
       " 'Observation point number': 0.308232353765866,\n",
       " 'Principal amount class': 0.3079408810257198,\n",
       " 'Application indicator': 0.3008608339071577,\n",
       " 'Observation point date': 0.29394356825182355,\n",
       " 'Days to cancellation': 0.2936101097573518,\n",
       " 'Settlement duration': 0.2861757357361696,\n",
       " 'Application origin': 0.2785430072655779,\n",
       " 'Application status': 0.2785430072655779,\n",
       " 'Balance written off': 0.27111385490795015,\n",
       " 'Approved duration': 0.27069514600185485,\n",
       " 'Account concerned': 0.27069514600185485,\n",
       " 'Cancellation date': 0.27069514600185485,\n",
       " 'Portfolio grouping': 0.2630683957508235,\n",
       " 'Application type': 0.2626128657194451,\n",
       " 'Days to approval': 0.2626128657194451,\n",
       " 'Customer segment': 0.2626128657194451,\n",
       " 'Days to rejection': 0.2547719021193928,\n",
       " 'Account segment': 0.2542738138578039,\n",
       " 'Approved amount': 0.2542738138578039,\n",
       " 'Discount amount': 0.2542738138578039,\n",
       " 'QC customer code': 0.24619956161197976,\n",
       " 'Account status': 0.2456518422202587,\n",
       " 'Approval date': 0.23671603823699972,\n",
       " 'Pending days': 0.22742941307367104,\n",
       " 'Asset class': 0.21774708517784636,\n",
       " 'Rejection date': 0.2105587219030789,\n",
       " 'QC case code': 0.2084769619841984,\n",
       " 'Portfolio': 0.19695964928958376,\n",
       " 'Customer': 0.18569533817705186}"
      ]
     },
     "execution_count": 60,
     "metadata": {},
     "output_type": "execute_result"
    }
   ],
   "source": [
    "scores"
   ]
  },
  {
   "attachments": {},
   "cell_type": "markdown",
   "metadata": {},
   "source": [
    "**Synonyms**"
   ]
  },
  {
   "cell_type": "code",
   "execution_count": 2,
   "metadata": {},
   "outputs": [
    {
     "name": "stdout",
     "output_type": "stream",
     "text": [
      "{'happy'}\n"
     ]
    }
   ],
   "source": [
    "import spacy\n",
    "\n",
    "nlp = spacy.load(\"en_core_web_md\")\n",
    "word = nlp(\"happy\")\n",
    "\n",
    "synonyms = []\n",
    "for syn in word:\n",
    "    for lemma in syn.lemma_.split(\"|\"):\n",
    "        synonyms.append(lemma)\n",
    "\n",
    "print(set(synonyms))\n"
   ]
  },
  {
   "cell_type": "code",
   "execution_count": 7,
   "metadata": {},
   "outputs": [
    {
     "name": "stdout",
     "output_type": "stream",
     "text": [
      "{'calendar_month', 'month'}\n"
     ]
    }
   ],
   "source": [
    "from nltk.corpus import wordnet as wn\n",
    "\n",
    "synonyms = []\n",
    "for syn in wn.synsets('month'):\n",
    "    for lemma in syn.lemmas():\n",
    "        synonyms.append(lemma.name())\n",
    "\n",
    "print(set(synonyms))"
   ]
  },
  {
   "attachments": {},
   "cell_type": "markdown",
   "metadata": {},
   "source": [
    "**Metrics**"
   ]
  },
  {
   "cell_type": "code",
   "execution_count": 9,
   "metadata": {},
   "outputs": [],
   "source": [
    "from helper import *\n",
    "\n",
    "path='../reports/corpus.xlsx'\n",
    "descriptions = get_column_values(path, 'descriptions_measures', 'A')\n",
    "targets = get_column_values(path, 'descriptions_measures', 'B')\n",
    "model = 'word2vec'\n",
    "preprocessing = False\n",
    "version_w2v = 'word2vec-google-news-300'\n",
    "version_sbert = 'bert-base-nli-mean-tokens'\n",
    "version_bow = './models/trigrams_bow_model.joblib'\n",
    "version_tfidf = './models/trigrams_tfidf_model.joblib'\n",
    "corpus = ['Descriptions']\n",
    "tm = TextModels(excel_path=path, columns=corpus,\n",
    "                 word2vec_version=version_w2v)\n",
    "metric1 = 'precision'\n",
    "metric2 = 'recall'\n",
    "n = 10\n",
    "\n",
    "pr = evaluation_metrics(metric=metric1,values=descriptions, docs=targets, encoding_method=model,\n",
    "               version=version_w2v, tm=tm, preprocessing=preprocessing, path=path, n=n)\n",
    "\n",
    "rec = evaluation_metrics(metric=metric2, values=descriptions, docs=targets, encoding_method=model,\n",
    "               version=version_w2v, tm=tm, preprocessing=preprocessing, path=path, n=n)"
   ]
  },
  {
   "cell_type": "code",
   "execution_count": 11,
   "metadata": {},
   "outputs": [
    {
     "data": {
      "text/plain": [
       "{'Q1': 10.0,\n",
       " 'Q2': 20.0,\n",
       " 'Q3': 10.0,\n",
       " 'Q4': 30.0,\n",
       " 'Q5': 'One or both of the lists is empty',\n",
       " 'Q6': 0.0,\n",
       " 'Q7': 0.0,\n",
       " 'Q8': 0.0,\n",
       " 'Q9': 0.0}"
      ]
     },
     "execution_count": 11,
     "metadata": {},
     "output_type": "execute_result"
    }
   ],
   "source": [
    "rec\n",
    "\n",
    "pr"
   ]
  },
  {
   "cell_type": "code",
   "execution_count": 41,
   "metadata": {},
   "outputs": [],
   "source": [
    "from helper import *\n",
    "\n",
    "word2vec_version_fin_path = 'C:/Users/avitsas/Documents/VECTORS/word.w2v.200.bin'\n",
    "sentence = 'Provide the number of customers with active and running settlements of types Settlement, Preappoved, Resch to Sett, Out of Mandate Had Settlement and null on the Earth portfolio, \\\n",
    "    the corresponding number of applications, the initial settlement amount, discount amount and future instalments per asset class and DCA, for September 2020.'\n",
    "sentence = preprocess_text(sentence)\n",
    "embeddings = []\n",
    "embedding_model = KeyedVectors.load_word2vec_format(word2vec_version_fin_path, binary=True)\n",
    "\n",
    "for word in sentence:\n",
    "    if word in embedding_model:\n",
    "        embeddings.append(embedding_model.get_vector(word))\n",
    "if len(embeddings) > 0:\n",
    "    sentence_embedding = sum(embeddings) / len(embeddings)\n",
    "\n",
    "\n",
    "\n"
   ]
  },
  {
   "cell_type": "code",
   "execution_count": 3,
   "metadata": {},
   "outputs": [
    {
     "name": "stderr",
     "output_type": "stream",
     "text": [
      "c:\\Users\\avitsas\\Documents\\thesis-backup\\thesis\\code\\helper.py:86: FutureWarning: save is not part of the public API, usage can give unexpected results and will be removed in a future version\n",
      "  writer.save()\n"
     ]
    }
   ],
   "source": [
    "save_df_to_excel(evaluation_df, '../reports/results/metrics5.xlsx', 'r_precision')"
   ]
  }
 ],
 "metadata": {
  "kernelspec": {
   "display_name": "project",
   "language": "python",
   "name": "python3"
  },
  "language_info": {
   "codemirror_mode": {
    "name": "ipython",
    "version": 3
   },
   "file_extension": ".py",
   "mimetype": "text/x-python",
   "name": "python",
   "nbconvert_exporter": "python",
   "pygments_lexer": "ipython3",
   "version": "3.9.16"
  },
  "orig_nbformat": 4,
  "vscode": {
   "interpreter": {
    "hash": "6730b402c0f33b6bed7f8d0f7f3f069d5734816b753f081e1b7690f9108853e7"
   }
  }
 },
 "nbformat": 4,
 "nbformat_minor": 2
}
