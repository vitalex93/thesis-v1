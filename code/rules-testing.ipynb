{
 "cells": [
  {
   "cell_type": "code",
   "execution_count": 9,
   "metadata": {},
   "outputs": [
    {
     "name": "stdout",
     "output_type": "stream",
     "text": [
      "applications rejected APPREJ\n",
      "per DCA DCA\n",
      "application type APPTYPE\n",
      "Earth EARTH\n"
     ]
    },
    {
     "data": {
      "text/html": [
       "<span class=\"tex2jax_ignore\"><div class=\"entities\" style=\"line-height: 2.5; direction: ltr\">Create a report that shows the number of settlement \n",
       "<mark class=\"entity\" style=\"background: #ddd; padding: 0.45em 0.6em; margin: 0 0.25em; line-height: 1; border-radius: 0.35em;\">\n",
       "    applications rejected\n",
       "    <span style=\"font-size: 0.8em; font-weight: bold; line-height: 1; border-radius: 0.35em; vertical-align: middle; margin-left: 0.5rem\">APPREJ</span>\n",
       "</mark>\n",
       " during the month, their approved amount,      the average days to rejection, their entry principal and entry balance, for September 2020 \n",
       "<mark class=\"entity\" style=\"background: #ddd; padding: 0.45em 0.6em; margin: 0 0.25em; line-height: 1; border-radius: 0.35em;\">\n",
       "    per DCA\n",
       "    <span style=\"font-size: 0.8em; font-weight: bold; line-height: 1; border-radius: 0.35em; vertical-align: middle; margin-left: 0.5rem\">DCA</span>\n",
       "</mark>\n",
       " and \n",
       "<mark class=\"entity\" style=\"background: #ddd; padding: 0.45em 0.6em; margin: 0 0.25em; line-height: 1; border-radius: 0.35em;\">\n",
       "    application type\n",
       "    <span style=\"font-size: 0.8em; font-weight: bold; line-height: 1; border-radius: 0.35em; vertical-align: middle; margin-left: 0.5rem\">APPTYPE</span>\n",
       "</mark>\n",
       ".         The report should be produced on \n",
       "<mark class=\"entity\" style=\"background: #ddd; padding: 0.45em 0.6em; margin: 0 0.25em; line-height: 1; border-radius: 0.35em;\">\n",
       "    Earth\n",
       "    <span style=\"font-size: 0.8em; font-weight: bold; line-height: 1; border-radius: 0.35em; vertical-align: middle; margin-left: 0.5rem\">EARTH</span>\n",
       "</mark>\n",
       " portfolio.</div></span>"
      ],
      "text/plain": [
       "<IPython.core.display.HTML object>"
      ]
     },
     "metadata": {},
     "output_type": "display_data"
    }
   ],
   "source": [
    "import spacy\n",
    "from spacy import displacy\n",
    "from spacy.pipeline import EntityRuler\n",
    "\n",
    "\n",
    "#nlp = spacy.load(\"en_core_web_sm\")\n",
    "nlp = spacy.blank(\"en\")\n",
    "#ruler = EntityRuler(nlp)\n",
    "ruler = nlp.add_pipe('entity_ruler')\n",
    "\n",
    "patterns = [{\"label\": \"APPTYPE\", \"pattern\": [{'LOWER': 'application'},{'LOWER': 'type'}]},\n",
    "            {\"label\": \"DCA\", \"pattern\": [{\"LOWER\": \"per\", 'OP':'?'}, {\"LOWER\": \"dca\"}]},\n",
    "            {\"label\": \"APPAPPR\", \"pattern\": [{'LOWER': 'applications'},{'LOWER': 'approved'}]},\n",
    "            {\"label\": \"APPREJ\", \"pattern\": [{'LOWER': 'applications'},{'LOWER': 'rejected'}]},\n",
    "             {\"label\": \"EARTH\", \"pattern\": [{'LOWER': 'earth'}]} ]\n",
    "\n",
    "ruler.add_patterns(patterns)\n",
    "#nlp.add_pipe(ruler, before=\"ner\")\n",
    "\n",
    "\n",
    "Q7 = 'Create a report that shows the number of settlement applications approved during the month, their approved amount, the written off balance,\\\n",
    "      the average days to approval, their average and median duration and their entry principal and balance,\\\n",
    "          for September 2020 DCA and application type. The report should be produced on Earth portfolio.'\n",
    "Q9 = 'Create a report that shows the number of settlement applications rejected during the month, their approved amount,\\\n",
    "      the average days to rejection, their entry principal and entry balance, for September 2020 per DCA and application type. \\\n",
    "        The report should be produced on Earth portfolio.'\n",
    "doc = nlp(Q9)\n",
    "for ent in doc.ents:\n",
    "    print(ent.text, ent.label_)\n",
    "\n",
    "displacy.render(doc, style='ent')\n"
   ]
  }
 ],
 "metadata": {
  "kernelspec": {
   "display_name": "project",
   "language": "python",
   "name": "python3"
  },
  "language_info": {
   "codemirror_mode": {
    "name": "ipython",
    "version": 3
   },
   "file_extension": ".py",
   "mimetype": "text/x-python",
   "name": "python",
   "nbconvert_exporter": "python",
   "pygments_lexer": "ipython3",
   "version": "3.9.16"
  },
  "orig_nbformat": 4
 },
 "nbformat": 4,
 "nbformat_minor": 2
}
