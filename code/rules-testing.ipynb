{
 "cells": [
  {
   "cell_type": "code",
   "execution_count": 1,
   "metadata": {},
   "outputs": [
    {
     "name": "stderr",
     "output_type": "stream",
     "text": [
      "c:\\Users\\avitsas\\Anaconda3\\envs\\project\\lib\\site-packages\\tqdm\\auto.py:21: TqdmWarning: IProgress not found. Please update jupyter and ipywidgets. See https://ipywidgets.readthedocs.io/en/stable/user_install.html\n",
      "  from .autonotebook import tqdm as notebook_tqdm\n"
     ]
    },
    {
     "name": "stdout",
     "output_type": "stream",
     "text": [
      "['tok2vec', 'tagger', 'parser', 'attribute_ruler', 'lemmatizer', 'ner', 'entity_ruler']\n",
      "applications approved APPAPPR\n",
      "the month DATE\n",
      "the average days DATE\n",
      "September 2020 DATE\n",
      "per DCA DCA\n",
      "application type APPTYPE\n",
      "Earth LOC\n"
     ]
    },
    {
     "data": {
      "text/html": [
       "<span class=\"tex2jax_ignore\"><div class=\"entities\" style=\"line-height: 2.5; direction: ltr\">Create a report that shows the number of settlement \n",
       "<mark class=\"entity\" style=\"background: #ddd; padding: 0.45em 0.6em; margin: 0 0.25em; line-height: 1; border-radius: 0.35em;\">\n",
       "    applications approved\n",
       "    <span style=\"font-size: 0.8em; font-weight: bold; line-height: 1; border-radius: 0.35em; vertical-align: middle; margin-left: 0.5rem\">APPAPPR</span>\n",
       "</mark>\n",
       " during \n",
       "<mark class=\"entity\" style=\"background: #bfe1d9; padding: 0.45em 0.6em; margin: 0 0.25em; line-height: 1; border-radius: 0.35em;\">\n",
       "    the month\n",
       "    <span style=\"font-size: 0.8em; font-weight: bold; line-height: 1; border-radius: 0.35em; vertical-align: middle; margin-left: 0.5rem\">DATE</span>\n",
       "</mark>\n",
       ", their approved amount, the written off balance, \n",
       "<mark class=\"entity\" style=\"background: #bfe1d9; padding: 0.45em 0.6em; margin: 0 0.25em; line-height: 1; border-radius: 0.35em;\">\n",
       "    the average days\n",
       "    <span style=\"font-size: 0.8em; font-weight: bold; line-height: 1; border-radius: 0.35em; vertical-align: middle; margin-left: 0.5rem\">DATE</span>\n",
       "</mark>\n",
       " to approval, their average and median duration and their entry principal and balance, for \n",
       "<mark class=\"entity\" style=\"background: #bfe1d9; padding: 0.45em 0.6em; margin: 0 0.25em; line-height: 1; border-radius: 0.35em;\">\n",
       "    September 2020\n",
       "    <span style=\"font-size: 0.8em; font-weight: bold; line-height: 1; border-radius: 0.35em; vertical-align: middle; margin-left: 0.5rem\">DATE</span>\n",
       "</mark>\n",
       " \n",
       "<mark class=\"entity\" style=\"background: #ddd; padding: 0.45em 0.6em; margin: 0 0.25em; line-height: 1; border-radius: 0.35em;\">\n",
       "    per DCA\n",
       "    <span style=\"font-size: 0.8em; font-weight: bold; line-height: 1; border-radius: 0.35em; vertical-align: middle; margin-left: 0.5rem\">DCA</span>\n",
       "</mark>\n",
       " and \n",
       "<mark class=\"entity\" style=\"background: #ddd; padding: 0.45em 0.6em; margin: 0 0.25em; line-height: 1; border-radius: 0.35em;\">\n",
       "    application type\n",
       "    <span style=\"font-size: 0.8em; font-weight: bold; line-height: 1; border-radius: 0.35em; vertical-align: middle; margin-left: 0.5rem\">APPTYPE</span>\n",
       "</mark>\n",
       ". The report should be produced on \n",
       "<mark class=\"entity\" style=\"background: #ff9561; padding: 0.45em 0.6em; margin: 0 0.25em; line-height: 1; border-radius: 0.35em;\">\n",
       "    Earth\n",
       "    <span style=\"font-size: 0.8em; font-weight: bold; line-height: 1; border-radius: 0.35em; vertical-align: middle; margin-left: 0.5rem\">LOC</span>\n",
       "</mark>\n",
       " portfolio.</div></span>"
      ],
      "text/plain": [
       "<IPython.core.display.HTML object>"
      ]
     },
     "metadata": {},
     "output_type": "display_data"
    },
    {
     "data": {
      "text/plain": [
       "[per DCA, application type]"
      ]
     },
     "execution_count": 1,
     "metadata": {},
     "output_type": "execute_result"
    }
   ],
   "source": [
    "import spacy\n",
    "from spacy import displacy\n",
    "from spacy.pipeline import EntityRuler\n",
    "from helper import *\n",
    "\n",
    "path='../reports/corpus.xlsx'\n",
    "corpus = ['Descriptions']\n",
    "descriptions = get_column_values(path, 'descriptions_measures', 'A')\n",
    "patterns = [{\"label\": \"APPTYPE\", \"pattern\": [{'LOWER': 'application'},{'LOWER': 'type'}]},\n",
    "            {\"label\": \"DCA\", \"pattern\": [{\"LOWER\": \"per\", 'OP':'?'}, {\"LOWER\": \"dca\"}]},\n",
    "            {\"label\": \"APPAPPR\", \"pattern\": [{'LOWER': 'applications'},{'LOWER': 'approved'}]},\n",
    "            {\"label\": \"APPREJ\", \"pattern\": [{'LOWER': 'applications'},{'LOWER': 'rejected'}]},\n",
    "             {\"label\": \"EARTH\", \"pattern\": [{'LOWER': 'earth'}]},\n",
    "            {\"label\": \"ASSCLASS\", \"pattern\": [{'LOWER': 'asset'}, {\"LOWER\": \"class\"}]},\n",
    "            {\"label\": \"PAYMENT\", \"pattern\": [{'LEMMA': 'payment'}]},\n",
    "            {\"label\": \"PRED\", \"pattern\": [{'LEMMA': 'prediction'}]}]\n",
    "\n",
    "\n",
    "nlp = spacy.load(\"en_core_web_sm\")\n",
    "#nlp = spacy.blank(\"en\")\n",
    "ruler = EntityRuler(nlp)\n",
    "ruler = nlp.add_pipe('entity_ruler')\n",
    "print(nlp.pipe_names)\n",
    "\n",
    "\n",
    "\n",
    "ruler.add_patterns(patterns)\n",
    "#nlp.add_pipe(ruler, before=\"ner\")\n",
    "\n",
    "doc = nlp(descriptions[7])\n",
    "for ent in doc.ents:\n",
    "    print(ent.text, ent.label_)\n",
    "\n",
    "entities_of_interest = []\n",
    "for ent in doc.ents:\n",
    "    if ent.label_ in [\"DCA\", \"APPTYPE\"]:\n",
    "        entities_of_interest.append(ent)\n",
    "\n",
    "displacy.render(doc, style='ent')\n",
    "\n",
    "entities_of_interest\n",
    "\n",
    "\n"
   ]
  },
  {
   "cell_type": "code",
   "execution_count": 2,
   "metadata": {},
   "outputs": [
    {
     "data": {
      "text/plain": [
       "['per DCA', 'application type']"
      ]
     },
     "execution_count": 2,
     "metadata": {},
     "output_type": "execute_result"
    }
   ],
   "source": [
    "from rules import *\n",
    "\n",
    "path='../reports/corpus.xlsx'\n",
    "corpus = ['Descriptions']\n",
    "descriptions = get_column_values(path, 'descriptions_measures', 'A')\n",
    "\n",
    "nlp = spacy.load('en_core_web_sm')\n",
    "patterns = [{\"label\": \"APPTYPE\", \"pattern\": [{'LOWER': 'application'},{'LOWER': 'type'}]},\n",
    "            {\"label\": \"DCA\", \"pattern\": [{\"LOWER\": \"per\", 'OP':'?'}, {\"LOWER\": \"dca\"}]},\n",
    "            {\"label\": \"APPAPPR\", \"pattern\": [{'LOWER': 'applications'},{'LOWER': 'approved'}]},\n",
    "            {\"label\": \"APPREJ\", \"pattern\": [{'LOWER': 'applications'},{'LOWER': 'rejected'}]},\n",
    "             {\"label\": \"EARTH\", \"pattern\": [{'LOWER': 'earth'}]},\n",
    "            {\"label\": \"ASSCLASS\", \"pattern\": [{'LOWER': 'asset'}, {\"LOWER\": \"class\"}]},\n",
    "            {\"label\": \"PAYMENT\", \"pattern\": [{'LEMMA': 'payment'}]},\n",
    "            {\"label\": \"PRED\", \"pattern\": [{'LEMMA': 'prediction'}]}]\n",
    "labels = ['APPTYPE', 'DCA']\n",
    "text = descriptions[7]\n",
    "\n",
    "entities = get_entities_by_label(text=text, labels=labels, patterns=patterns, model=nlp)\n",
    "\n",
    "entities"
   ]
  }
 ],
 "metadata": {
  "kernelspec": {
   "display_name": "project",
   "language": "python",
   "name": "python3"
  },
  "language_info": {
   "codemirror_mode": {
    "name": "ipython",
    "version": 3
   },
   "file_extension": ".py",
   "mimetype": "text/x-python",
   "name": "python",
   "nbconvert_exporter": "python",
   "pygments_lexer": "ipython3",
   "version": "3.9.16"
  },
  "orig_nbformat": 4
 },
 "nbformat": 4,
 "nbformat_minor": 2
}
