{
 "cells": [
  {
   "cell_type": "code",
   "execution_count": 1,
   "metadata": {},
   "outputs": [
    {
     "name": "stderr",
     "output_type": "stream",
     "text": [
      "c:\\Users\\avitsas\\Anaconda3\\envs\\project\\lib\\site-packages\\tqdm\\auto.py:21: TqdmWarning: IProgress not found. Please update jupyter and ipywidgets. See https://ipywidgets.readthedocs.io/en/stable/user_install.html\n",
      "  from .autonotebook import tqdm as notebook_tqdm\n"
     ]
    },
    {
     "name": "stdout",
     "output_type": "stream",
     "text": [
      "Category: RowGroup1, Ranking: [('RowGroup1', 3), ('RowGroup4', 2), ('RowGroup2', 2)]\n",
      "Category: RowGroup4, Ranking: [('RowGroup4', 3), ('RowGroup2', 2), ('RowGroup1', 0)]\n",
      "Category: RowGroup2, Ranking: [('RowGroup2', 3), ('RowGroup4', 1), ('RowGroup1', 0)]\n",
      "{'Provide a report that displays the number of accounts with running settlements for the Earth portfolio, their expected monthly payments at the end of the examined month and their actual monthly payments per DCA, for September 2020. ': ['RowGroup1', 'RowGroup4']}\n"
     ]
    }
   ],
   "source": [
    "from helper import *\n",
    "from DocumentClassifier import *\n",
    "\n",
    "path='../reports/corpus.xlsx'\n",
    "corpus = ['Descriptions']\n",
    "descriptions = get_column_values(path, 'descriptions_measures', 'A')\n",
    "\n",
    "pattern_rows = {\n",
    "    \"RowGroup4\": [\n",
    "        [{'LOWER': 'application'},{'LOWER': 'type'}],\n",
    "        [{\"LOWER\": \"per\", 'OP':'?'}, {\"LOWER\": \"dca\"}]\n",
    "    ],\n",
    "    \"RowGroup1\": [\n",
    "        [{\"LEMMA\": \"month\", 'OP':'?'}, {'LEMMA': 'payment'}],\n",
    "        [{'LEMMA': 'account'}]\n",
    "    ],\n",
    "    \"RowGroup2\": [\n",
    "        [{\"LOWER\": \"per\", 'OP':'?'}, {\"LOWER\": \"asset\"}, {'LOWER': 'class'}],\n",
    "        [{\"LOWER\": \"per\", 'OP':'?'}, {\"LOWER\": \"dca\"}]\n",
    "    ],\n",
    "}\n",
    "\n",
    "classifier = DocumentClassifier(pattern_rows)\n",
    "\n",
    "text1 = descriptions[0]\n",
    "category, ranking = classifier.classify(text1)\n",
    "print(f\"Category: {category}, Ranking: {ranking}\")\n",
    "\n",
    "text2 = descriptions[8]\n",
    "category, ranking = classifier.classify(text2)\n",
    "print(f\"Category: {category}, Ranking: {ranking}\")\n",
    "\n",
    "text3 = descriptions[3]\n",
    "category, ranking = classifier.classify(text3)\n",
    "print(f\"Category: {category}, Ranking: {ranking}\")\n",
    "\n",
    "doc_text = text1\n",
    "top_n_categories = classifier.get_top_n_categories(doc_text, n=2)\n",
    "print(top_n_categories)"
   ]
  },
  {
   "cell_type": "code",
   "execution_count": 31,
   "metadata": {},
   "outputs": [
    {
     "name": "stdout",
     "output_type": "stream",
     "text": [
      "Category: MEAS_ACCH_AMT_PAYMENT_CP, Ranking: [('MEAS_ACCH_AMT_PAYMENT_CP', 1), ('MEAS_ACCL_SETTLEMENT_PAYMENT_PREDICTION_PAYERS_AMT', 1), ('MEAS_ACCL_STRAY_PAYMENT_PREDICTION_PAYERS_AMT', 0), ('MEAS_APPL_AMT_APPROVED', 0), ('MEAS_APPL_AMT_PAYMENTS_TOTAL', 0), ('MEAS_APPL_AMT_DISCOUNT', 0), ('MEAS_APLL_AMT_INSTALMENTS_FUTURE', 0), ('MEAS_APLL_DURATION_UP_TO_6M', 0), ('MEAS_APLL_DURATION_07_TO_12M', 0), ('MEAS_APLL_DURATION_13_TO_36M', 0), ('MEAS_APLL_DURATION_37_TO_72M', 0), ('MEAS_APLL_DURATION_73_TO_108M', 0), ('MEAS_APLL_DURATION_109_PLUS', 0), ('MEAS_APLL_AMT_ENTRY_PRINCIPAL', 0), ('MEAS_APLL_AMT_ENTRY_BALANCE', 0), ('MEAS_APPL_DAYS_PENDING', 0), ('MEAS_APPL_AMT_WRITEOFF', 0), ('MEAS_APLL_DAYS_APPROVED', 0), ('MEAS_APPL_DURATION_APPROVED', 0)]\n",
      "{'Provide a report that displays the number of accounts with running settlements for the Earth portfolio, their expected monthly payments at the end of the examined month and their actual monthly payments per DCA, for September 2020. ': ['MEAS_ACCH_AMT_PAYMENT_CP', 'MEAS_ACCL_SETTLEMENT_PAYMENT_PREDICTION_PAYERS_AMT']}\n"
     ]
    }
   ],
   "source": [
    "from helper import *\n",
    "from DocumentClassifier import *\n",
    "\n",
    "path='../reports/corpus.xlsx'\n",
    "corpus = ['Descriptions']\n",
    "descriptions = get_column_values(path, 'descriptions_measures', 'A')\n",
    "\n",
    "pattern_measures = {\n",
    "    \"MEAS_ACCH_AMT_PAYMENT_CP\": [\n",
    "        [{\"LOWER\": \"actual\"}, {\"LEMMA\": \"monthly\", 'OP':'?'}, {\"LEMMA\": \"payment\"}]\n",
    "    ],\n",
    "    \"MEAS_ACCL_SETTLEMENT_PAYMENT_PREDICTION_PAYERS_AMT\": [\n",
    "        [{'LOWER':{\"NOT_IN\": ['not']}},  {'LEMMA': 'running'}, {'LEMMA': 'settlement'}],\n",
    "        [{\"LEMMA\": \"expected\"},{\"LEMMA\": \"month\", 'OP':'?'}, {'LEMMA': 'payment'}]\n",
    "    ],\n",
    "    #OK\n",
    "    \"MEAS_ACCL_STRAY_PAYMENT_PREDICTION_PAYERS_AMT\": [\n",
    "        [{\"LOWER\": \"not\"},{\"LOWER\": \"in\", 'OP':'?'}, {'LEMMA': 'running'}, {'LEMMA': 'settlement'}],\n",
    "        [{\"LEMMA\": \"expected\"},{\"LEMMA\": \"month\", 'OP':'?'}, {'LEMMA': 'payment'}]\n",
    "    ],\n",
    "    \"MEAS_APPL_AMT_APPROVED\": [\n",
    "        [{\"LEMMA\": \"approved\"}, {\"LEMMA\": \"amount\"}]\n",
    "    ],\n",
    "    \"MEAS_APPL_AMT_APPROVED\": [\n",
    "        [{\"LEMMA\": \"settlement\"}, {\"LEMMA\": \"amount\"}]\n",
    "    ],\n",
    "    \"MEAS_APPL_AMT_PAYMENTS_TOTAL\": [\n",
    "        [{\"LEMMA\": \"settlement\"}, {\"LEMMA\": \"amount\"}]\n",
    "    ],\n",
    "    \"MEAS_APPL_AMT_DISCOUNT\": [\n",
    "        [{\"LEMMA\": \"discount\"}, {\"LEMMA\": \"amount\"}]\n",
    "    ],\n",
    "    \"MEAS_APLL_AMT_INSTALMENTS_FUTURE\": [\n",
    "        [{\"LEMMA\": \"future\"}, {\"LEMMA\": \"instalment\"}]\n",
    "\n",
    "    ],\n",
    "    \"MEAS_APLL_DURATION_UP_TO_6M\": [\n",
    "        [{\"LOWER\": \"6\"}, {\"LEMMA\": \"month\", 'OP':'?'}]\n",
    "    ],\n",
    "    \"MEAS_APLL_DURATION_07_TO_12M\": [\n",
    "        [{\"LOWER\": \"7\"}, {\"LEMMA\": \"month\", 'OP':'?'}],\n",
    "        [{\"LOWER\": \"12\"}, {\"LEMMA\": \"month\", 'OP':'?'}]\n",
    "    ],\n",
    "    \"MEAS_APLL_DURATION_13_TO_36M\": [\n",
    "        [{\"LOWER\": \"13\"}, {\"LEMMA\": \"month\", 'OP':'?'}],\n",
    "        [{\"LOWER\": \"36\"}, {\"LEMMA\": \"month\", 'OP':'?'}]\n",
    "    ],\n",
    "    \"MEAS_APLL_DURATION_37_TO_72M\": [\n",
    "        [{\"LOWER\": \"37\"}, {\"LEMMA\": \"month\", 'OP':'?'}],\n",
    "        [{\"LOWER\": \"72\"}, {\"LEMMA\": \"month\", 'OP':'?'}]\n",
    "    ],\n",
    "    \"MEAS_APLL_DURATION_73_TO_108M\": [\n",
    "        [{\"LOWER\": \"73\"}, {\"LEMMA\": \"month\", 'OP':'?'}],\n",
    "        [{\"LOWER\": \"108\"}, {\"LEMMA\": \"month\", 'OP':'?'}]\n",
    "    ],\n",
    "    \"MEAS_APLL_DURATION_109_PLUS\": [\n",
    "        [{\"LOWER\": \"6\"}, {\"LEMMA\": \"month\", 'OP':'?'}]\n",
    "    ],\n",
    "    \"MEAS_APLL_AMT_ENTRY_PRINCIPAL\": [\n",
    "        [{\"LEMMA\": \"prinicipal\"}],\n",
    "        [{\"LEMMA\": \"entry\"}]\n",
    "    ],\n",
    "    \"MEAS_APLL_AMT_ENTRY_BALANCE\": [\n",
    "        [{\"LEMMA\": \"balance\"}],\n",
    "        [{\"LEMMA\": \"entry\"}]\n",
    "    ],\n",
    "    \"MEAS_APPL_DAYS_PENDING\": [\n",
    "        [{\"LOWER\": \"pending\"}],\n",
    "        [{\"LEMMA\": \"days\"}]\n",
    "    ],\n",
    "    \"MEAS_APPL_AMT_WRITEOFF\": [\n",
    "        [{\"LOWER\": \"balance\"}],\n",
    "        [{\"LEMMA\": \"write\"}, {\"LOWER\": \"off\"} ]\n",
    "    ],\n",
    "    \"MEAS_APLL_DAYS_APPROVED\": [\n",
    "        [{\"LOWER\": \"days\"}, {\"LOWER\": \"to\", 'OP':'?'}, {\"LOWER\": \"approval\"}]\n",
    "    ],\n",
    "    \"MEAS_APPL_DURATION_APPROVED\": [\n",
    "        [{\"LOWER\": \"days\"}],\n",
    "        [{\"LOWER\": \"duration\"}]\n",
    "    ],\n",
    "    \"MEAS_APLL_DAYS_REJECTED\": [\n",
    "    [{\"LOWER\": \"applications\"}, {\"LOWER\": \"rejected\"}]\n",
    "    ],\n",
    "}\n",
    "\n",
    "classifier = DocumentClassifier(pattern_measures)\n",
    "\n",
    "text1 = descriptions[0]\n",
    "category, ranking = classifier.classify(text1)\n",
    "print(f\"Category: {category}, Ranking: {ranking}\")\n",
    "\n",
    "\n",
    "doc_text = text1\n",
    "top_n_categories = classifier.get_top_n_categories(doc_text, n=2)\n",
    "print(top_n_categories)"
   ]
  },
  {
   "cell_type": "code",
   "execution_count": 29,
   "metadata": {},
   "outputs": [
    {
     "name": "stdout",
     "output_type": "stream",
     "text": [
      "Category: MEAS_ACCL_SETTLEMENT_PAYMENT_PREDICTION_PAYERS_AMT, Ranking: [('MEAS_ACCL_SETTLEMENT_PAYMENT_PREDICTION_PAYERS_AMT', 1)]\n"
     ]
    }
   ],
   "source": [
    "pattern = [{\"LOWER\": \"days\"}, {\"LOWER\": \"to\", 'OP':'?'}, {\"LOWER\": \"approval\"}]\n",
    "\n",
    "\n",
    "\n",
    "p = { \"MEAS_ACCL_SETTLEMENT_PAYMENT_PREDICTION_PAYERS_AMT\": [\n",
    "pattern\n",
    "    ]}\n",
    "\n",
    "c = DocumentClassifier(p)\n",
    "t = descriptions[7]\n",
    "\n",
    "\n",
    "category, ranking = c.classify(t)\n",
    "print(f\"Category: {category}, Ranking: {ranking}\")"
   ]
  }
 ],
 "metadata": {
  "kernelspec": {
   "display_name": "project",
   "language": "python",
   "name": "python3"
  },
  "language_info": {
   "codemirror_mode": {
    "name": "ipython",
    "version": 3
   },
   "file_extension": ".py",
   "mimetype": "text/x-python",
   "name": "python",
   "nbconvert_exporter": "python",
   "pygments_lexer": "ipython3",
   "version": "3.9.16"
  },
  "orig_nbformat": 4
 },
 "nbformat": 4,
 "nbformat_minor": 2
}
